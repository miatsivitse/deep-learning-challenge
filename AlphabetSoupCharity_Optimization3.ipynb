{
  "cells": [
    {
      "cell_type": "markdown",
      "metadata": {
        "id": "CObb2-BX_n0k"
      },
      "source": [
        "## Preprocessing"
      ]
    },
    {
      "cell_type": "code",
      "execution_count": 1,
      "metadata": {
        "id": "Fyr1rpwg_n0m"
      },
      "outputs": [],
      "source": [
        "# Import our dependencies\n",
        "from sklearn.model_selection import train_test_split\n",
        "from sklearn.preprocessing import StandardScaler\n",
        "import pandas as pd\n",
        "import tensorflow as tf\n",
        "\n",
        "#  Import and read the charity_data.csv.\n",
        "import pandas as pd \n",
        "application_df = pd.read_csv(\"charity_data.csv\")"
      ]
    },
    {
      "cell_type": "code",
      "execution_count": 6,
      "metadata": {
        "id": "-M_xi2vS_n0o",
        "colab": {
          "base_uri": "https://localhost:8080/",
          "height": 206
        },
        "outputId": "deac50da-7b20-4222-98d3-4d79f3f1a380"
      },
      "outputs": [
        {
          "output_type": "execute_result",
          "data": {
            "text/plain": [
              "  APPLICATION_TYPE       AFFILIATION CLASSIFICATION      USE_CASE  \\\n",
              "0              T10       Independent          C1000    ProductDev   \n",
              "1               T3       Independent          C2000  Preservation   \n",
              "2               T5  CompanySponsored          C3000    ProductDev   \n",
              "3               T3  CompanySponsored          C2000  Preservation   \n",
              "4               T3       Independent          C1000     Heathcare   \n",
              "\n",
              "   ORGANIZATION  STATUS     INCOME_AMT SPECIAL_CONSIDERATIONS  ASK_AMT  \\\n",
              "0   Association       1              0                      N     5000   \n",
              "1  Co-operative       1         1-9999                      N   108590   \n",
              "2   Association       1              0                      N     5000   \n",
              "3         Trust       1    10000-24999                      N     6692   \n",
              "4         Trust       1  100000-499999                      N   142590   \n",
              "\n",
              "   IS_SUCCESSFUL  \n",
              "0              1  \n",
              "1              1  \n",
              "2              0  \n",
              "3              1  \n",
              "4              1  "
            ],
            "text/html": [
              "\n",
              "  <div id=\"df-16938359-5180-4e24-9615-b5fa114f67a9\">\n",
              "    <div class=\"colab-df-container\">\n",
              "      <div>\n",
              "<style scoped>\n",
              "    .dataframe tbody tr th:only-of-type {\n",
              "        vertical-align: middle;\n",
              "    }\n",
              "\n",
              "    .dataframe tbody tr th {\n",
              "        vertical-align: top;\n",
              "    }\n",
              "\n",
              "    .dataframe thead th {\n",
              "        text-align: right;\n",
              "    }\n",
              "</style>\n",
              "<table border=\"1\" class=\"dataframe\">\n",
              "  <thead>\n",
              "    <tr style=\"text-align: right;\">\n",
              "      <th></th>\n",
              "      <th>APPLICATION_TYPE</th>\n",
              "      <th>AFFILIATION</th>\n",
              "      <th>CLASSIFICATION</th>\n",
              "      <th>USE_CASE</th>\n",
              "      <th>ORGANIZATION</th>\n",
              "      <th>STATUS</th>\n",
              "      <th>INCOME_AMT</th>\n",
              "      <th>SPECIAL_CONSIDERATIONS</th>\n",
              "      <th>ASK_AMT</th>\n",
              "      <th>IS_SUCCESSFUL</th>\n",
              "    </tr>\n",
              "  </thead>\n",
              "  <tbody>\n",
              "    <tr>\n",
              "      <th>0</th>\n",
              "      <td>T10</td>\n",
              "      <td>Independent</td>\n",
              "      <td>C1000</td>\n",
              "      <td>ProductDev</td>\n",
              "      <td>Association</td>\n",
              "      <td>1</td>\n",
              "      <td>0</td>\n",
              "      <td>N</td>\n",
              "      <td>5000</td>\n",
              "      <td>1</td>\n",
              "    </tr>\n",
              "    <tr>\n",
              "      <th>1</th>\n",
              "      <td>T3</td>\n",
              "      <td>Independent</td>\n",
              "      <td>C2000</td>\n",
              "      <td>Preservation</td>\n",
              "      <td>Co-operative</td>\n",
              "      <td>1</td>\n",
              "      <td>1-9999</td>\n",
              "      <td>N</td>\n",
              "      <td>108590</td>\n",
              "      <td>1</td>\n",
              "    </tr>\n",
              "    <tr>\n",
              "      <th>2</th>\n",
              "      <td>T5</td>\n",
              "      <td>CompanySponsored</td>\n",
              "      <td>C3000</td>\n",
              "      <td>ProductDev</td>\n",
              "      <td>Association</td>\n",
              "      <td>1</td>\n",
              "      <td>0</td>\n",
              "      <td>N</td>\n",
              "      <td>5000</td>\n",
              "      <td>0</td>\n",
              "    </tr>\n",
              "    <tr>\n",
              "      <th>3</th>\n",
              "      <td>T3</td>\n",
              "      <td>CompanySponsored</td>\n",
              "      <td>C2000</td>\n",
              "      <td>Preservation</td>\n",
              "      <td>Trust</td>\n",
              "      <td>1</td>\n",
              "      <td>10000-24999</td>\n",
              "      <td>N</td>\n",
              "      <td>6692</td>\n",
              "      <td>1</td>\n",
              "    </tr>\n",
              "    <tr>\n",
              "      <th>4</th>\n",
              "      <td>T3</td>\n",
              "      <td>Independent</td>\n",
              "      <td>C1000</td>\n",
              "      <td>Heathcare</td>\n",
              "      <td>Trust</td>\n",
              "      <td>1</td>\n",
              "      <td>100000-499999</td>\n",
              "      <td>N</td>\n",
              "      <td>142590</td>\n",
              "      <td>1</td>\n",
              "    </tr>\n",
              "  </tbody>\n",
              "</table>\n",
              "</div>\n",
              "      <button class=\"colab-df-convert\" onclick=\"convertToInteractive('df-16938359-5180-4e24-9615-b5fa114f67a9')\"\n",
              "              title=\"Convert this dataframe to an interactive table.\"\n",
              "              style=\"display:none;\">\n",
              "        \n",
              "  <svg xmlns=\"http://www.w3.org/2000/svg\" height=\"24px\"viewBox=\"0 0 24 24\"\n",
              "       width=\"24px\">\n",
              "    <path d=\"M0 0h24v24H0V0z\" fill=\"none\"/>\n",
              "    <path d=\"M18.56 5.44l.94 2.06.94-2.06 2.06-.94-2.06-.94-.94-2.06-.94 2.06-2.06.94zm-11 1L8.5 8.5l.94-2.06 2.06-.94-2.06-.94L8.5 2.5l-.94 2.06-2.06.94zm10 10l.94 2.06.94-2.06 2.06-.94-2.06-.94-.94-2.06-.94 2.06-2.06.94z\"/><path d=\"M17.41 7.96l-1.37-1.37c-.4-.4-.92-.59-1.43-.59-.52 0-1.04.2-1.43.59L10.3 9.45l-7.72 7.72c-.78.78-.78 2.05 0 2.83L4 21.41c.39.39.9.59 1.41.59.51 0 1.02-.2 1.41-.59l7.78-7.78 2.81-2.81c.8-.78.8-2.07 0-2.86zM5.41 20L4 18.59l7.72-7.72 1.47 1.35L5.41 20z\"/>\n",
              "  </svg>\n",
              "      </button>\n",
              "      \n",
              "  <style>\n",
              "    .colab-df-container {\n",
              "      display:flex;\n",
              "      flex-wrap:wrap;\n",
              "      gap: 12px;\n",
              "    }\n",
              "\n",
              "    .colab-df-convert {\n",
              "      background-color: #E8F0FE;\n",
              "      border: none;\n",
              "      border-radius: 50%;\n",
              "      cursor: pointer;\n",
              "      display: none;\n",
              "      fill: #1967D2;\n",
              "      height: 32px;\n",
              "      padding: 0 0 0 0;\n",
              "      width: 32px;\n",
              "    }\n",
              "\n",
              "    .colab-df-convert:hover {\n",
              "      background-color: #E2EBFA;\n",
              "      box-shadow: 0px 1px 2px rgba(60, 64, 67, 0.3), 0px 1px 3px 1px rgba(60, 64, 67, 0.15);\n",
              "      fill: #174EA6;\n",
              "    }\n",
              "\n",
              "    [theme=dark] .colab-df-convert {\n",
              "      background-color: #3B4455;\n",
              "      fill: #D2E3FC;\n",
              "    }\n",
              "\n",
              "    [theme=dark] .colab-df-convert:hover {\n",
              "      background-color: #434B5C;\n",
              "      box-shadow: 0px 1px 3px 1px rgba(0, 0, 0, 0.15);\n",
              "      filter: drop-shadow(0px 1px 2px rgba(0, 0, 0, 0.3));\n",
              "      fill: #FFFFFF;\n",
              "    }\n",
              "  </style>\n",
              "\n",
              "      <script>\n",
              "        const buttonEl =\n",
              "          document.querySelector('#df-16938359-5180-4e24-9615-b5fa114f67a9 button.colab-df-convert');\n",
              "        buttonEl.style.display =\n",
              "          google.colab.kernel.accessAllowed ? 'block' : 'none';\n",
              "\n",
              "        async function convertToInteractive(key) {\n",
              "          const element = document.querySelector('#df-16938359-5180-4e24-9615-b5fa114f67a9');\n",
              "          const dataTable =\n",
              "            await google.colab.kernel.invokeFunction('convertToInteractive',\n",
              "                                                     [key], {});\n",
              "          if (!dataTable) return;\n",
              "\n",
              "          const docLinkHtml = 'Like what you see? Visit the ' +\n",
              "            '<a target=\"_blank\" href=https://colab.research.google.com/notebooks/data_table.ipynb>data table notebook</a>'\n",
              "            + ' to learn more about interactive tables.';\n",
              "          element.innerHTML = '';\n",
              "          dataTable['output_type'] = 'display_data';\n",
              "          await google.colab.output.renderOutput(dataTable, element);\n",
              "          const docLink = document.createElement('div');\n",
              "          docLink.innerHTML = docLinkHtml;\n",
              "          element.appendChild(docLink);\n",
              "        }\n",
              "      </script>\n",
              "    </div>\n",
              "  </div>\n",
              "  "
            ]
          },
          "metadata": {},
          "execution_count": 6
        }
      ],
      "source": [
        "# Drop the non-beneficial ID columns, 'EIN' and 'NAME'.\n",
        "updated_applications = application_df.drop(columns=['NAME' , 'EIN'], axis=1)\n",
        "updated_applications.head()"
      ]
    },
    {
      "cell_type": "code",
      "source": [
        "# Look at APPLICATION_TYPE value counts for binning\n",
        "application_counts = updated_applications['APPLICATION_TYPE'].value_counts()\n",
        "application_counts"
      ],
      "metadata": {
        "colab": {
          "base_uri": "https://localhost:8080/"
        },
        "id": "Zna59l2bNWKf",
        "outputId": "8305d58c-4e94-439c-cd24-655d968c4910"
      },
      "execution_count": 7,
      "outputs": [
        {
          "output_type": "execute_result",
          "data": {
            "text/plain": [
              "T3     27037\n",
              "T4      1542\n",
              "T6      1216\n",
              "T5      1173\n",
              "T19     1065\n",
              "T8       737\n",
              "T7       725\n",
              "T10      528\n",
              "T9       156\n",
              "T13       66\n",
              "T12       27\n",
              "T2        16\n",
              "T25        3\n",
              "T14        3\n",
              "T29        2\n",
              "T15        2\n",
              "T17        1\n",
              "Name: APPLICATION_TYPE, dtype: int64"
            ]
          },
          "metadata": {},
          "execution_count": 7
        }
      ]
    },
    {
      "cell_type": "code",
      "execution_count": 8,
      "metadata": {
        "id": "tgBSoFTC_n0o",
        "outputId": "1ec18e77-9e50-46b9-b21d-928f73875b15",
        "colab": {
          "base_uri": "https://localhost:8080/"
        }
      },
      "outputs": [
        {
          "output_type": "execute_result",
          "data": {
            "text/plain": [
              "T3     27037\n",
              "T4      1542\n",
              "T6      1216\n",
              "T5      1173\n",
              "T19     1065\n",
              "T8       737\n",
              "T7       725\n",
              "T10      528\n",
              "T9       156\n",
              "T13       66\n",
              "T12       27\n",
              "T2        16\n",
              "Name: APPLICATION_TYPE, dtype: int64"
            ]
          },
          "metadata": {},
          "execution_count": 8
        }
      ],
      "source": [
        "# Look at APPLICATION_TYPE value counts for binning\n",
        "reduced_applications = updated_applications['APPLICATION_TYPE'].value_counts()[updated_applications['APPLICATION_TYPE'].value_counts()>10]\n",
        "reduced_applications"
      ]
    },
    {
      "cell_type": "code",
      "execution_count": 9,
      "metadata": {
        "id": "C-m9lBYh_n0p",
        "outputId": "5d603aeb-1e09-4634-d9bd-77fa89e1f846",
        "colab": {
          "base_uri": "https://localhost:8080/"
        }
      },
      "outputs": [
        {
          "output_type": "execute_result",
          "data": {
            "text/plain": [
              "T3       27037\n",
              "T4        1542\n",
              "T6        1216\n",
              "T5        1173\n",
              "T19       1065\n",
              "T8         737\n",
              "T7         725\n",
              "T10        528\n",
              "Other      276\n",
              "Name: APPLICATION_TYPE, dtype: int64"
            ]
          },
          "metadata": {},
          "execution_count": 9
        }
      ],
      "source": [
        "# Choose a cutoff value and create a list of application types to be replaced\n",
        "# use the variable name `application_types_to_replace`\n",
        "application_types_to_replace = updated_applications['APPLICATION_TYPE'].value_counts(ascending=False).index[8:].tolist()\n",
        "\n",
        "# Replace in dataframe\n",
        "for app in application_types_to_replace:\n",
        "    application_df['APPLICATION_TYPE'] = application_df['APPLICATION_TYPE'].replace(app,\"Other\")\n",
        "\n",
        "# Check to make sure binning was successful\n",
        "application_df['APPLICATION_TYPE'].value_counts()"
      ]
    },
    {
      "cell_type": "code",
      "execution_count": 10,
      "metadata": {
        "id": "k03Jyp5R_n0p",
        "outputId": "fb666fee-331b-4ada-c0fb-9a75213fc9d5",
        "colab": {
          "base_uri": "https://localhost:8080/"
        }
      },
      "outputs": [
        {
          "output_type": "execute_result",
          "data": {
            "text/plain": [
              "C1000    17326\n",
              "C2000     6074\n",
              "C1200     4837\n",
              "C3000     1918\n",
              "C2100     1883\n",
              "         ...  \n",
              "C4120        1\n",
              "C8210        1\n",
              "C2561        1\n",
              "C4500        1\n",
              "C2150        1\n",
              "Name: CLASSIFICATION, Length: 71, dtype: int64"
            ]
          },
          "metadata": {},
          "execution_count": 10
        }
      ],
      "source": [
        "# Look at CLASSIFICATION value counts for binning\n",
        "classification_count = application_df['CLASSIFICATION'].value_counts()\n",
        "classification_count"
      ]
    },
    {
      "cell_type": "code",
      "execution_count": 11,
      "metadata": {
        "id": "LiI0QGHr_n0q",
        "outputId": "4c8f9675-f3bc-4522-da40-b7c0627b1f0a",
        "colab": {
          "base_uri": "https://localhost:8080/"
        }
      },
      "outputs": [
        {
          "output_type": "execute_result",
          "data": {
            "text/plain": [
              "C1000    17326\n",
              "C2000     6074\n",
              "C1200     4837\n",
              "C3000     1918\n",
              "C2100     1883\n",
              "         ...  \n",
              "C4120        1\n",
              "C8210        1\n",
              "C2561        1\n",
              "C4500        1\n",
              "C2150        1\n",
              "Name: CLASSIFICATION, Length: 71, dtype: int64"
            ]
          },
          "metadata": {},
          "execution_count": 11
        }
      ],
      "source": [
        "# You may find it helpful to look at CLASSIFICATION value counts >1\n",
        "classification_count[classification_count>1]\n",
        "classification_count"
      ]
    },
    {
      "cell_type": "code",
      "execution_count": 12,
      "metadata": {
        "id": "7Nek31xg_n0q",
        "outputId": "a09119d1-8589-478b-ebea-92b398b7c853",
        "colab": {
          "base_uri": "https://localhost:8080/"
        }
      },
      "outputs": [
        {
          "output_type": "execute_result",
          "data": {
            "text/plain": [
              "C1000    17326\n",
              "C2000     6074\n",
              "C1200     4837\n",
              "Other     4144\n",
              "C3000     1918\n",
              "Name: CLASSIFICATION, dtype: int64"
            ]
          },
          "metadata": {},
          "execution_count": 12
        }
      ],
      "source": [
        "# Choose a cutoff value and create a list of classifications to be replaced\n",
        "# use the variable name `classifications_to_replace`\n",
        "classifications_to_replace = application_df['CLASSIFICATION'].value_counts(ascending=False).index[4:].tolist()\n",
        "\n",
        "# Replace in dataframe\n",
        "for cls in classifications_to_replace:\n",
        "    application_df['CLASSIFICATION'] = application_df['CLASSIFICATION'].replace(cls,\"Other\")\n",
        "    \n",
        "# Check to make sure binning was successful\n",
        "application_df['CLASSIFICATION'].value_counts()"
      ]
    },
    {
      "cell_type": "code",
      "execution_count": 13,
      "metadata": {
        "id": "LiU80kZF_n0r"
      },
      "outputs": [],
      "source": [
        "# Convert categorical data to numeric with `pd.get_dummies`\n",
        "numeric_data = pd.get_dummies(application_df, dtype=float)"
      ]
    },
    {
      "cell_type": "code",
      "execution_count": 14,
      "metadata": {
        "id": "SvsUeGrh_n0r"
      },
      "outputs": [],
      "source": [
        "# Split our preprocessed data into our features and target arrays\n",
        "x = numeric_data.drop(columns = ['IS_SUCCESSFUL']).values\n",
        "y = numeric_data['IS_SUCCESSFUL'].values\n",
        "\n",
        "# Split the preprocessed data into a training and testing dataset\n",
        "X_train, X_test, Y_train, Y_test = train_test_split(x,y, random_state=42)"
      ]
    },
    {
      "cell_type": "code",
      "execution_count": 15,
      "metadata": {
        "id": "mDH8hUa5_n0r"
      },
      "outputs": [],
      "source": [
        "# Create a StandardScaler instances\n",
        "scaler = StandardScaler()\n",
        "\n",
        "# Fit the StandardScaler\n",
        "X_scaler = scaler.fit(X_train)\n",
        "\n",
        "# Scale the data\n",
        "X_train_scaled = X_scaler.transform(X_train)\n",
        "X_test_scaled = X_scaler.transform(X_test)"
      ]
    },
    {
      "cell_type": "markdown",
      "metadata": {
        "id": "28yw5tJ2_n0s"
      },
      "source": [
        "## Compile, Train and Evaluate the Model"
      ]
    },
    {
      "cell_type": "code",
      "execution_count": 16,
      "metadata": {
        "id": "GRZxYHac_n0s",
        "outputId": "33c84e6c-c5ed-41d1-9634-ab07e388742d",
        "colab": {
          "base_uri": "https://localhost:8080/"
        }
      },
      "outputs": [
        {
          "output_type": "stream",
          "name": "stdout",
          "text": [
            "Input Features = 19611\n",
            "Hidden Nodes - Layer 1 = 100\n",
            "Hidden Nodes - Layer 2 = 50\n",
            "Hidden Nodes - Layer 3 = 20\n",
            "Hidden Nodes - Layer 4 = 20\n",
            "Model: \"sequential\"\n",
            "_________________________________________________________________\n",
            " Layer (type)                Output Shape              Param #   \n",
            "=================================================================\n",
            " dense (Dense)               (None, 100)               1961200   \n",
            "                                                                 \n",
            " dense_1 (Dense)             (None, 50)                5050      \n",
            "                                                                 \n",
            " dense_2 (Dense)             (None, 20)                1020      \n",
            "                                                                 \n",
            " dense_3 (Dense)             (None, 20)                420       \n",
            "                                                                 \n",
            " dense_4 (Dense)             (None, 1)                 21        \n",
            "                                                                 \n",
            "=================================================================\n",
            "Total params: 1,967,711\n",
            "Trainable params: 1,967,711\n",
            "Non-trainable params: 0\n",
            "_________________________________________________________________\n"
          ]
        }
      ],
      "source": [
        "# Define the model - deep neural net, i.e., the number of input features and hidden nodes for each layer.\n",
        "\n",
        "number_input_features = len(X_train[0])\n",
        "print(\"Input Features =\", number_input_features)\n",
        "hidden_nodes_layer1 = 100\n",
        "print(\"Hidden Nodes - Layer 1 =\", hidden_nodes_layer1)\n",
        "hidden_nodes_layer2 = 50\n",
        "print(\"Hidden Nodes - Layer 2 =\", hidden_nodes_layer2)\n",
        "hidden_nodes_layer3 = 20\n",
        "print(\"Hidden Nodes - Layer 3 =\", hidden_nodes_layer3)\n",
        "hidden_nodes_layer4 = 20\n",
        "print(\"Hidden Nodes - Layer 4 =\", hidden_nodes_layer4)\n",
        "\n",
        "#Keras Sequential Model\n",
        "nn = tf.keras.models.Sequential()\n",
        "\n",
        "# First hidden layer\n",
        "nn.add(tf.keras.layers.Dense(units=hidden_nodes_layer1, input_dim=number_input_features, activation=\"relu\"))\n",
        "\n",
        "# Second hidden layer\n",
        "nn.add(tf.keras.layers.Dense(units=hidden_nodes_layer2, activation=\"relu\"))\n",
        "\n",
        "# Third hidden layer\n",
        "nn.add(tf.keras.layers.Dense(units=hidden_nodes_layer3, activation=\"relu\"))\n",
        "\n",
        "# Fourth hidden layer\n",
        "nn.add(tf.keras.layers.Dense(units=hidden_nodes_layer4, activation=\"relu\"))\n",
        "\n",
        "# Output layer\n",
        "nn.add(tf.keras.layers.Dense(units=1, activation=\"sigmoid\"))\n",
        "\n",
        "# Check the structure of the model\n",
        "nn.summary()"
      ]
    },
    {
      "cell_type": "code",
      "execution_count": 17,
      "metadata": {
        "id": "2PUSznm0_n0s"
      },
      "outputs": [],
      "source": [
        "# Compile the model\n",
        "nn.compile(loss=\"binary_crossentropy\", optimizer=\"adam\", metrics=[\"accuracy\"])"
      ]
    },
    {
      "cell_type": "code",
      "execution_count": 19,
      "metadata": {
        "id": "hRNNlVX9_n0t",
        "colab": {
          "base_uri": "https://localhost:8080/"
        },
        "outputId": "c4413266-c80d-4723-ae51-4e5876d878b8"
      },
      "outputs": [
        {
          "output_type": "stream",
          "name": "stdout",
          "text": [
            "Epoch 1/100\n",
            "804/804 [==============================] - 9s 11ms/step - loss: 0.0730 - accuracy: 0.9704\n",
            "Epoch 2/100\n",
            "804/804 [==============================] - 9s 11ms/step - loss: 0.0708 - accuracy: 0.9704\n",
            "Epoch 3/100\n",
            "804/804 [==============================] - 9s 11ms/step - loss: 0.0705 - accuracy: 0.9706\n",
            "Epoch 4/100\n",
            "804/804 [==============================] - 9s 11ms/step - loss: 0.0702 - accuracy: 0.9712\n",
            "Epoch 5/100\n",
            "804/804 [==============================] - 9s 11ms/step - loss: 0.0703 - accuracy: 0.9710\n",
            "Epoch 6/100\n",
            "804/804 [==============================] - 9s 11ms/step - loss: 0.0700 - accuracy: 0.9719\n",
            "Epoch 7/100\n",
            "804/804 [==============================] - 9s 11ms/step - loss: 0.0697 - accuracy: 0.9716\n",
            "Epoch 8/100\n",
            "804/804 [==============================] - 9s 11ms/step - loss: 0.0700 - accuracy: 0.9710\n",
            "Epoch 9/100\n",
            "804/804 [==============================] - 9s 11ms/step - loss: 0.0701 - accuracy: 0.9713\n",
            "Epoch 10/100\n",
            "804/804 [==============================] - 9s 11ms/step - loss: 0.0696 - accuracy: 0.9710\n",
            "Epoch 11/100\n",
            "804/804 [==============================] - 9s 11ms/step - loss: 0.0693 - accuracy: 0.9713\n",
            "Epoch 12/100\n",
            "804/804 [==============================] - 9s 11ms/step - loss: 0.0693 - accuracy: 0.9718\n",
            "Epoch 13/100\n",
            "804/804 [==============================] - 9s 11ms/step - loss: 0.0689 - accuracy: 0.9715\n",
            "Epoch 14/100\n",
            "804/804 [==============================] - 9s 11ms/step - loss: 0.0690 - accuracy: 0.9713\n",
            "Epoch 15/100\n",
            "804/804 [==============================] - 9s 12ms/step - loss: 0.0689 - accuracy: 0.9713\n",
            "Epoch 16/100\n",
            "804/804 [==============================] - 9s 11ms/step - loss: 0.0740 - accuracy: 0.9702\n",
            "Epoch 17/100\n",
            "804/804 [==============================] - 9s 12ms/step - loss: 0.0688 - accuracy: 0.9717\n",
            "Epoch 18/100\n",
            "804/804 [==============================] - 9s 11ms/step - loss: 0.0681 - accuracy: 0.9721\n",
            "Epoch 19/100\n",
            "804/804 [==============================] - 9s 11ms/step - loss: 0.0678 - accuracy: 0.9717\n",
            "Epoch 20/100\n",
            "804/804 [==============================] - 9s 11ms/step - loss: 0.0677 - accuracy: 0.9717\n",
            "Epoch 21/100\n",
            "804/804 [==============================] - 9s 11ms/step - loss: 0.0680 - accuracy: 0.9718\n",
            "Epoch 22/100\n",
            "804/804 [==============================] - 9s 11ms/step - loss: 0.0698 - accuracy: 0.9719\n",
            "Epoch 23/100\n",
            "804/804 [==============================] - 9s 11ms/step - loss: 0.0679 - accuracy: 0.9717\n",
            "Epoch 24/100\n",
            "804/804 [==============================] - 9s 11ms/step - loss: 0.0675 - accuracy: 0.9718\n",
            "Epoch 25/100\n",
            "804/804 [==============================] - 9s 11ms/step - loss: 0.0678 - accuracy: 0.9720\n",
            "Epoch 26/100\n",
            "804/804 [==============================] - 9s 11ms/step - loss: 0.0673 - accuracy: 0.9720\n",
            "Epoch 27/100\n",
            "804/804 [==============================] - 9s 11ms/step - loss: 0.0679 - accuracy: 0.9722\n",
            "Epoch 28/100\n",
            "804/804 [==============================] - 9s 11ms/step - loss: 0.0669 - accuracy: 0.9717\n",
            "Epoch 29/100\n",
            "804/804 [==============================] - 9s 11ms/step - loss: 0.0671 - accuracy: 0.9723\n",
            "Epoch 30/100\n",
            "804/804 [==============================] - 9s 12ms/step - loss: 0.0671 - accuracy: 0.9723\n",
            "Epoch 31/100\n",
            "804/804 [==============================] - 9s 12ms/step - loss: 0.0687 - accuracy: 0.9717\n",
            "Epoch 32/100\n",
            "804/804 [==============================] - 9s 11ms/step - loss: 0.0680 - accuracy: 0.9715\n",
            "Epoch 33/100\n",
            "804/804 [==============================] - 9s 11ms/step - loss: 0.0663 - accuracy: 0.9720\n",
            "Epoch 34/100\n",
            "804/804 [==============================] - 9s 11ms/step - loss: 0.0662 - accuracy: 0.9722\n",
            "Epoch 35/100\n",
            "804/804 [==============================] - 9s 11ms/step - loss: 0.0663 - accuracy: 0.9723\n",
            "Epoch 36/100\n",
            "804/804 [==============================] - 9s 11ms/step - loss: 0.0668 - accuracy: 0.9718\n",
            "Epoch 37/100\n",
            "804/804 [==============================] - 9s 11ms/step - loss: 0.0668 - accuracy: 0.9719\n",
            "Epoch 38/100\n",
            "804/804 [==============================] - 9s 11ms/step - loss: 0.0660 - accuracy: 0.9721\n",
            "Epoch 39/100\n",
            "804/804 [==============================] - 9s 11ms/step - loss: 0.0664 - accuracy: 0.9720\n",
            "Epoch 40/100\n",
            "804/804 [==============================] - 9s 11ms/step - loss: 0.0663 - accuracy: 0.9722\n",
            "Epoch 41/100\n",
            "804/804 [==============================] - 9s 11ms/step - loss: 0.0658 - accuracy: 0.9722\n",
            "Epoch 42/100\n",
            "804/804 [==============================] - 9s 11ms/step - loss: 0.0659 - accuracy: 0.9721\n",
            "Epoch 43/100\n",
            "804/804 [==============================] - 9s 11ms/step - loss: 0.0665 - accuracy: 0.9725\n",
            "Epoch 44/100\n",
            "804/804 [==============================] - 9s 11ms/step - loss: 0.0669 - accuracy: 0.9720\n",
            "Epoch 45/100\n",
            "804/804 [==============================] - 9s 11ms/step - loss: 0.0656 - accuracy: 0.9723\n",
            "Epoch 46/100\n",
            "804/804 [==============================] - 9s 11ms/step - loss: 0.0656 - accuracy: 0.9726\n",
            "Epoch 47/100\n",
            "804/804 [==============================] - 9s 11ms/step - loss: 0.0657 - accuracy: 0.9721\n",
            "Epoch 48/100\n",
            "804/804 [==============================] - 9s 11ms/step - loss: 0.0657 - accuracy: 0.9723\n",
            "Epoch 49/100\n",
            "804/804 [==============================] - 9s 11ms/step - loss: 0.0653 - accuracy: 0.9725\n",
            "Epoch 50/100\n",
            "804/804 [==============================] - 9s 11ms/step - loss: 0.0657 - accuracy: 0.9723\n",
            "Epoch 51/100\n",
            "804/804 [==============================] - 9s 11ms/step - loss: 0.0651 - accuracy: 0.9724\n",
            "Epoch 52/100\n",
            "804/804 [==============================] - 9s 12ms/step - loss: 0.0656 - accuracy: 0.9724\n",
            "Epoch 53/100\n",
            "804/804 [==============================] - 9s 11ms/step - loss: 0.0653 - accuracy: 0.9725\n",
            "Epoch 54/100\n",
            "804/804 [==============================] - 9s 11ms/step - loss: 0.0655 - accuracy: 0.9724\n",
            "Epoch 55/100\n",
            "804/804 [==============================] - 9s 11ms/step - loss: 0.0648 - accuracy: 0.9725\n",
            "Epoch 56/100\n",
            "804/804 [==============================] - 9s 12ms/step - loss: 0.0653 - accuracy: 0.9728\n",
            "Epoch 57/100\n",
            "804/804 [==============================] - 9s 11ms/step - loss: 0.0654 - accuracy: 0.9723\n",
            "Epoch 58/100\n",
            "804/804 [==============================] - 9s 11ms/step - loss: 0.0660 - accuracy: 0.9723\n",
            "Epoch 59/100\n",
            "804/804 [==============================] - 9s 11ms/step - loss: 0.0690 - accuracy: 0.9723\n",
            "Epoch 60/100\n",
            "804/804 [==============================] - 9s 11ms/step - loss: 0.0648 - accuracy: 0.9726\n",
            "Epoch 61/100\n",
            "804/804 [==============================] - 9s 11ms/step - loss: 0.0647 - accuracy: 0.9722\n",
            "Epoch 62/100\n",
            "804/804 [==============================] - 9s 11ms/step - loss: 0.0652 - accuracy: 0.9726\n",
            "Epoch 63/100\n",
            "804/804 [==============================] - 9s 11ms/step - loss: 0.0644 - accuracy: 0.9724\n",
            "Epoch 64/100\n",
            "804/804 [==============================] - 9s 11ms/step - loss: 0.0640 - accuracy: 0.9726\n",
            "Epoch 65/100\n",
            "804/804 [==============================] - 9s 12ms/step - loss: 0.0643 - accuracy: 0.9722\n",
            "Epoch 66/100\n",
            "804/804 [==============================] - 9s 12ms/step - loss: 0.0640 - accuracy: 0.9732\n",
            "Epoch 67/100\n",
            "804/804 [==============================] - 9s 11ms/step - loss: 0.0639 - accuracy: 0.9729\n",
            "Epoch 68/100\n",
            "804/804 [==============================] - 9s 11ms/step - loss: 0.0646 - accuracy: 0.9729\n",
            "Epoch 69/100\n",
            "804/804 [==============================] - 9s 11ms/step - loss: 0.0657 - accuracy: 0.9722\n",
            "Epoch 70/100\n",
            "804/804 [==============================] - 9s 11ms/step - loss: 0.0640 - accuracy: 0.9733\n",
            "Epoch 71/100\n",
            "804/804 [==============================] - 9s 11ms/step - loss: 0.0636 - accuracy: 0.9726\n",
            "Epoch 72/100\n",
            "804/804 [==============================] - 9s 11ms/step - loss: 0.0634 - accuracy: 0.9731\n",
            "Epoch 73/100\n",
            "804/804 [==============================] - 9s 11ms/step - loss: 0.0638 - accuracy: 0.9726\n",
            "Epoch 74/100\n",
            "804/804 [==============================] - 9s 12ms/step - loss: 0.0638 - accuracy: 0.9732\n",
            "Epoch 75/100\n",
            "804/804 [==============================] - 9s 11ms/step - loss: 0.0640 - accuracy: 0.9728\n",
            "Epoch 76/100\n",
            "804/804 [==============================] - 9s 11ms/step - loss: 0.0647 - accuracy: 0.9731\n",
            "Epoch 77/100\n",
            "804/804 [==============================] - 9s 11ms/step - loss: 0.0642 - accuracy: 0.9733\n",
            "Epoch 78/100\n",
            "804/804 [==============================] - 9s 11ms/step - loss: 0.0636 - accuracy: 0.9730\n",
            "Epoch 79/100\n",
            "804/804 [==============================] - 9s 11ms/step - loss: 0.0635 - accuracy: 0.9727\n",
            "Epoch 80/100\n",
            "804/804 [==============================] - 9s 11ms/step - loss: 0.0647 - accuracy: 0.9722\n",
            "Epoch 81/100\n",
            "804/804 [==============================] - 9s 11ms/step - loss: 0.0649 - accuracy: 0.9724\n",
            "Epoch 82/100\n",
            "804/804 [==============================] - 9s 11ms/step - loss: 0.0727 - accuracy: 0.9726\n",
            "Epoch 83/100\n",
            "804/804 [==============================] - 9s 12ms/step - loss: 0.0659 - accuracy: 0.9730\n",
            "Epoch 84/100\n",
            "804/804 [==============================] - 9s 11ms/step - loss: 0.0646 - accuracy: 0.9729\n",
            "Epoch 85/100\n",
            "804/804 [==============================] - 9s 11ms/step - loss: 0.0626 - accuracy: 0.9736\n",
            "Epoch 86/100\n",
            "804/804 [==============================] - 9s 11ms/step - loss: 0.0634 - accuracy: 0.9730\n",
            "Epoch 87/100\n",
            "804/804 [==============================] - 9s 11ms/step - loss: 0.0632 - accuracy: 0.9732\n",
            "Epoch 88/100\n",
            "804/804 [==============================] - 9s 11ms/step - loss: 0.0631 - accuracy: 0.9731\n",
            "Epoch 89/100\n",
            "804/804 [==============================] - 9s 11ms/step - loss: 0.0635 - accuracy: 0.9733\n",
            "Epoch 90/100\n",
            "804/804 [==============================] - 9s 11ms/step - loss: 0.0632 - accuracy: 0.9733\n",
            "Epoch 91/100\n",
            "804/804 [==============================] - 9s 11ms/step - loss: 0.0638 - accuracy: 0.9729\n",
            "Epoch 92/100\n",
            "804/804 [==============================] - 9s 11ms/step - loss: 0.0636 - accuracy: 0.9731\n",
            "Epoch 93/100\n",
            "804/804 [==============================] - 9s 12ms/step - loss: 0.0632 - accuracy: 0.9734\n",
            "Epoch 94/100\n",
            "804/804 [==============================] - 9s 11ms/step - loss: 0.0641 - accuracy: 0.9727\n",
            "Epoch 95/100\n",
            "804/804 [==============================] - 9s 11ms/step - loss: 0.0633 - accuracy: 0.9729\n",
            "Epoch 96/100\n",
            "804/804 [==============================] - 9s 11ms/step - loss: 0.0631 - accuracy: 0.9733\n",
            "Epoch 97/100\n",
            "804/804 [==============================] - 9s 11ms/step - loss: 0.0633 - accuracy: 0.9728\n",
            "Epoch 98/100\n",
            "804/804 [==============================] - 9s 11ms/step - loss: 0.0634 - accuracy: 0.9729\n",
            "Epoch 99/100\n",
            "804/804 [==============================] - 9s 12ms/step - loss: 0.0646 - accuracy: 0.9727\n",
            "Epoch 100/100\n",
            "804/804 [==============================] - 9s 11ms/step - loss: 0.0635 - accuracy: 0.9731\n"
          ]
        }
      ],
      "source": [
        "# Train the model\n",
        "fit_model = nn.fit(X_train_scaled,Y_train,epochs=100)"
      ]
    },
    {
      "cell_type": "code",
      "execution_count": 21,
      "metadata": {
        "id": "8ZHoZ_bX_n0t",
        "outputId": "55bbd31c-e5a9-4d2c-f23d-f2e7a3761b34",
        "colab": {
          "base_uri": "https://localhost:8080/"
        }
      },
      "outputs": [
        {
          "output_type": "stream",
          "name": "stdout",
          "text": [
            "268/268 - 1s - loss: 0.8809 - accuracy: 0.6767 - 998ms/epoch - 4ms/step\n",
            "Loss: 0.8808674812316895, Accuracy: 0.6767346858978271\n"
          ]
        }
      ],
      "source": [
        "# Evaluate the model using the test data\n",
        "model_loss, model_accuracy = nn.evaluate(X_test_scaled,Y_test,verbose=2)\n",
        "print(f\"Loss: {model_loss}, Accuracy: {model_accuracy}\")"
      ]
    },
    {
      "cell_type": "code",
      "execution_count": 22,
      "metadata": {
        "id": "mC8nqhmm_n0t"
      },
      "outputs": [],
      "source": [
        "# Export our model to HDF5 file\n",
        "nn.save('../AlphabetSoupCharity_Optimization3.h5')"
      ]
    }
  ],
  "metadata": {
    "kernelspec": {
      "display_name": "Python 3 (ipykernel)",
      "language": "python",
      "name": "python3"
    },
    "language_info": {
      "codemirror_mode": {
        "name": "ipython",
        "version": 3
      },
      "file_extension": ".py",
      "mimetype": "text/x-python",
      "name": "python",
      "nbconvert_exporter": "python",
      "pygments_lexer": "ipython3",
      "version": "3.9.13"
    },
    "colab": {
      "provenance": [],
      "machine_shape": "hm"
    },
    "gpuClass": "standard"
  },
  "nbformat": 4,
  "nbformat_minor": 0
}