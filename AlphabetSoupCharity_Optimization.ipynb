{
  "cells": [
    {
      "cell_type": "markdown",
      "metadata": {
        "id": "CObb2-BX_n0k"
      },
      "source": [
        "## Preprocessing"
      ]
    },
    {
      "cell_type": "code",
      "execution_count": 4,
      "metadata": {
        "id": "Fyr1rpwg_n0m"
      },
      "outputs": [],
      "source": [
        "# Import our dependencies\n",
        "from sklearn.model_selection import train_test_split\n",
        "from sklearn.preprocessing import StandardScaler\n",
        "import pandas as pd\n",
        "import tensorflow as tf\n",
        "\n",
        "#  Import and read the charity_data.csv.\n",
        "import pandas as pd \n",
        "application_df = pd.read_csv(\"charity_data.csv\")"
      ]
    },
    {
      "cell_type": "code",
      "execution_count": 5,
      "metadata": {
        "id": "-M_xi2vS_n0o"
      },
      "outputs": [],
      "source": [
        "# Drop the non-beneficial ID columns, 'EIN' and 'NAME'.\n",
        "updated_applications = application_df.drop(columns=['NAME' , 'EIN'], axis=1)"
      ]
    },
    {
      "cell_type": "code",
      "source": [
        "# Look at APPLICATION_TYPE value counts for binning\n",
        "application_counts = updated_applications['APPLICATION_TYPE'].value_counts()\n",
        "application_counts"
      ],
      "metadata": {
        "colab": {
          "base_uri": "https://localhost:8080/"
        },
        "id": "Zna59l2bNWKf",
        "outputId": "12fae9ef-3e57-4ecd-da02-ec569016255c"
      },
      "execution_count": 6,
      "outputs": [
        {
          "output_type": "execute_result",
          "data": {
            "text/plain": [
              "T3     27037\n",
              "T4      1542\n",
              "T6      1216\n",
              "T5      1173\n",
              "T19     1065\n",
              "T8       737\n",
              "T7       725\n",
              "T10      528\n",
              "T9       156\n",
              "T13       66\n",
              "T12       27\n",
              "T2        16\n",
              "T25        3\n",
              "T14        3\n",
              "T29        2\n",
              "T15        2\n",
              "T17        1\n",
              "Name: APPLICATION_TYPE, dtype: int64"
            ]
          },
          "metadata": {},
          "execution_count": 6
        }
      ]
    },
    {
      "cell_type": "code",
      "execution_count": 7,
      "metadata": {
        "id": "tgBSoFTC_n0o",
        "outputId": "d9a9a6ad-900d-49aa-d1f9-5ce88b2e1e3f",
        "colab": {
          "base_uri": "https://localhost:8080/"
        }
      },
      "outputs": [
        {
          "output_type": "execute_result",
          "data": {
            "text/plain": [
              "T3     27037\n",
              "T4      1542\n",
              "T6      1216\n",
              "T5      1173\n",
              "T19     1065\n",
              "T8       737\n",
              "T7       725\n",
              "T10      528\n",
              "T9       156\n",
              "T13       66\n",
              "T12       27\n",
              "T2        16\n",
              "Name: APPLICATION_TYPE, dtype: int64"
            ]
          },
          "metadata": {},
          "execution_count": 7
        }
      ],
      "source": [
        "# Look at APPLICATION_TYPE value counts for binning\n",
        "reduced_applications = updated_applications['APPLICATION_TYPE'].value_counts()[updated_applications['APPLICATION_TYPE'].value_counts()>10]\n",
        "reduced_applications"
      ]
    },
    {
      "cell_type": "code",
      "execution_count": 8,
      "metadata": {
        "id": "C-m9lBYh_n0p",
        "outputId": "cb36e11b-c987-4318-9b89-4102c3d3d7bf",
        "colab": {
          "base_uri": "https://localhost:8080/"
        }
      },
      "outputs": [
        {
          "output_type": "execute_result",
          "data": {
            "text/plain": [
              "T3       27037\n",
              "T4        1542\n",
              "T6        1216\n",
              "T5        1173\n",
              "T19       1065\n",
              "T8         737\n",
              "T7         725\n",
              "T10        528\n",
              "Other      276\n",
              "Name: APPLICATION_TYPE, dtype: int64"
            ]
          },
          "metadata": {},
          "execution_count": 8
        }
      ],
      "source": [
        "# Choose a cutoff value and create a list of application types to be replaced\n",
        "# use the variable name `application_types_to_replace`\n",
        "application_types_to_replace = updated_applications['APPLICATION_TYPE'].value_counts(ascending=False).index[8:].tolist()\n",
        "\n",
        "# Replace in dataframe\n",
        "for app in application_types_to_replace:\n",
        "    application_df['APPLICATION_TYPE'] = application_df['APPLICATION_TYPE'].replace(app,\"Other\")\n",
        "\n",
        "# Check to make sure binning was successful\n",
        "application_df['APPLICATION_TYPE'].value_counts()"
      ]
    },
    {
      "cell_type": "code",
      "execution_count": 9,
      "metadata": {
        "id": "k03Jyp5R_n0p",
        "outputId": "25f1f98d-c9e1-4e03-e755-3e4c8ae4059e",
        "colab": {
          "base_uri": "https://localhost:8080/"
        }
      },
      "outputs": [
        {
          "output_type": "execute_result",
          "data": {
            "text/plain": [
              "C1000    17326\n",
              "C2000     6074\n",
              "C1200     4837\n",
              "C3000     1918\n",
              "C2100     1883\n",
              "         ...  \n",
              "C4120        1\n",
              "C8210        1\n",
              "C2561        1\n",
              "C4500        1\n",
              "C2150        1\n",
              "Name: CLASSIFICATION, Length: 71, dtype: int64"
            ]
          },
          "metadata": {},
          "execution_count": 9
        }
      ],
      "source": [
        "# Look at CLASSIFICATION value counts for binning\n",
        "classification_count = application_df['CLASSIFICATION'].value_counts()\n",
        "classification_count"
      ]
    },
    {
      "cell_type": "code",
      "execution_count": 10,
      "metadata": {
        "id": "LiI0QGHr_n0q",
        "outputId": "2ffd75f9-3ed5-44a2-e3f2-d515a39574b8",
        "colab": {
          "base_uri": "https://localhost:8080/"
        }
      },
      "outputs": [
        {
          "output_type": "execute_result",
          "data": {
            "text/plain": [
              "C1000    17326\n",
              "C2000     6074\n",
              "C1200     4837\n",
              "C3000     1918\n",
              "C2100     1883\n",
              "         ...  \n",
              "C4120        1\n",
              "C8210        1\n",
              "C2561        1\n",
              "C4500        1\n",
              "C2150        1\n",
              "Name: CLASSIFICATION, Length: 71, dtype: int64"
            ]
          },
          "metadata": {},
          "execution_count": 10
        }
      ],
      "source": [
        "# You may find it helpful to look at CLASSIFICATION value counts >1\n",
        "classification_count[classification_count>1]\n",
        "classification_count"
      ]
    },
    {
      "cell_type": "code",
      "execution_count": 11,
      "metadata": {
        "id": "7Nek31xg_n0q",
        "outputId": "2019d354-b325-4e48-a8a6-a9f8d934c1a8",
        "colab": {
          "base_uri": "https://localhost:8080/"
        }
      },
      "outputs": [
        {
          "output_type": "execute_result",
          "data": {
            "text/plain": [
              "C1000    17326\n",
              "C2000     6074\n",
              "C1200     4837\n",
              "Other     4144\n",
              "C3000     1918\n",
              "Name: CLASSIFICATION, dtype: int64"
            ]
          },
          "metadata": {},
          "execution_count": 11
        }
      ],
      "source": [
        "# Choose a cutoff value and create a list of classifications to be replaced\n",
        "# use the variable name `classifications_to_replace`\n",
        "classifications_to_replace = application_df['CLASSIFICATION'].value_counts(ascending=False).index[4:].tolist()\n",
        "\n",
        "# Replace in dataframe\n",
        "for cls in classifications_to_replace:\n",
        "    application_df['CLASSIFICATION'] = application_df['CLASSIFICATION'].replace(cls,\"Other\")\n",
        "    \n",
        "# Check to make sure binning was successful\n",
        "application_df['CLASSIFICATION'].value_counts()"
      ]
    },
    {
      "cell_type": "code",
      "execution_count": 12,
      "metadata": {
        "id": "LiU80kZF_n0r"
      },
      "outputs": [],
      "source": [
        "# Convert categorical data to numeric with `pd.get_dummies`\n",
        "numeric_data = pd.get_dummies(application_df, dtype=float)"
      ]
    },
    {
      "cell_type": "code",
      "execution_count": 13,
      "metadata": {
        "id": "SvsUeGrh_n0r"
      },
      "outputs": [],
      "source": [
        "# Split our preprocessed data into our features and target arrays\n",
        "x = numeric_data.drop(columns = ['IS_SUCCESSFUL']).values\n",
        "y = numeric_data['IS_SUCCESSFUL'].values\n",
        "\n",
        "# Split the preprocessed data into a training and testing dataset\n",
        "X_train, X_test, Y_train, Y_test = train_test_split(x,y, random_state=42)"
      ]
    },
    {
      "cell_type": "code",
      "execution_count": 14,
      "metadata": {
        "id": "mDH8hUa5_n0r"
      },
      "outputs": [],
      "source": [
        "# Create a StandardScaler instances\n",
        "scaler = StandardScaler()\n",
        "\n",
        "# Fit the StandardScaler\n",
        "X_scaler = scaler.fit(X_train)\n",
        "\n",
        "# Scale the data\n",
        "X_train_scaled = X_scaler.transform(X_train)\n",
        "X_test_scaled = X_scaler.transform(X_test)"
      ]
    },
    {
      "cell_type": "markdown",
      "metadata": {
        "id": "28yw5tJ2_n0s"
      },
      "source": [
        "## Compile, Train and Evaluate the Model"
      ]
    },
    {
      "cell_type": "code",
      "execution_count": 16,
      "metadata": {
        "id": "GRZxYHac_n0s",
        "outputId": "7055f5a7-cdd0-45f4-8fae-4739a970c90f",
        "colab": {
          "base_uri": "https://localhost:8080/"
        }
      },
      "outputs": [
        {
          "output_type": "stream",
          "name": "stdout",
          "text": [
            "Input Features = 19611\n",
            "Hidden Nodes - Layer 1 = 10\n",
            "Hidden Nodes - Layer 2 = 10\n",
            "Hidden Nodes - Layer 3 = 15\n",
            "Model: \"sequential_1\"\n",
            "_________________________________________________________________\n",
            " Layer (type)                Output Shape              Param #   \n",
            "=================================================================\n",
            " dense_4 (Dense)             (None, 10)                196120    \n",
            "                                                                 \n",
            " dense_5 (Dense)             (None, 10)                110       \n",
            "                                                                 \n",
            " dense_6 (Dense)             (None, 15)                165       \n",
            "                                                                 \n",
            " dense_7 (Dense)             (None, 1)                 16        \n",
            "                                                                 \n",
            "=================================================================\n",
            "Total params: 196,411\n",
            "Trainable params: 196,411\n",
            "Non-trainable params: 0\n",
            "_________________________________________________________________\n"
          ]
        }
      ],
      "source": [
        "# Define the model - deep neural net, i.e., the number of input features and hidden nodes for each layer.\n",
        "\n",
        "number_input_features = len(X_train[0])\n",
        "print(\"Input Features =\", number_input_features)\n",
        "hidden_nodes_layer1 = 10\n",
        "print(\"Hidden Nodes - Layer 1 =\", hidden_nodes_layer1)\n",
        "hidden_nodes_layer2 = 10\n",
        "print(\"Hidden Nodes - Layer 2 =\", hidden_nodes_layer2)\n",
        "hidden_nodes_layer3 = 15\n",
        "print(\"Hidden Nodes - Layer 3 =\", hidden_nodes_layer3)\n",
        "\n",
        "#Keras Sequential Model\n",
        "nn = tf.keras.models.Sequential()\n",
        "\n",
        "# First hidden layer\n",
        "nn.add(tf.keras.layers.Dense(units=hidden_nodes_layer1, input_dim=number_input_features, activation=\"relu\"))\n",
        "\n",
        "# Second hidden layer\n",
        "nn.add(tf.keras.layers.Dense(units=hidden_nodes_layer2, activation=\"relu\"))\n",
        "\n",
        "# Third hidden layer\n",
        "nn.add(tf.keras.layers.Dense(units=hidden_nodes_layer3, activation=\"relu\"))\n",
        "\n",
        "# Output layer\n",
        "nn.add(tf.keras.layers.Dense(units=1, activation=\"sigmoid\"))\n",
        "\n",
        "# Check the structure of the model\n",
        "nn.summary()"
      ]
    },
    {
      "cell_type": "code",
      "execution_count": 17,
      "metadata": {
        "id": "2PUSznm0_n0s"
      },
      "outputs": [],
      "source": [
        "# Compile the model\n",
        "nn.compile(loss=\"binary_crossentropy\", optimizer=\"adam\", metrics=[\"accuracy\"])"
      ]
    },
    {
      "cell_type": "code",
      "execution_count": 18,
      "metadata": {
        "id": "hRNNlVX9_n0t",
        "colab": {
          "base_uri": "https://localhost:8080/"
        },
        "outputId": "817fe1eb-f771-40a4-f8e5-25f82d815394"
      },
      "outputs": [
        {
          "output_type": "stream",
          "name": "stdout",
          "text": [
            "Epoch 1/100\n",
            "804/804 [==============================] - 5s 5ms/step - loss: 0.4942 - accuracy: 0.7651\n",
            "Epoch 2/100\n",
            "804/804 [==============================] - 4s 5ms/step - loss: 0.3181 - accuracy: 0.8473\n",
            "Epoch 3/100\n",
            "804/804 [==============================] - 4s 5ms/step - loss: 0.1854 - accuracy: 0.9249\n",
            "Epoch 4/100\n",
            "804/804 [==============================] - 4s 5ms/step - loss: 0.1182 - accuracy: 0.9547\n",
            "Epoch 5/100\n",
            "804/804 [==============================] - 4s 5ms/step - loss: 0.0990 - accuracy: 0.9612\n",
            "Epoch 6/100\n",
            "804/804 [==============================] - 4s 5ms/step - loss: 0.0947 - accuracy: 0.9617\n",
            "Epoch 7/100\n",
            "804/804 [==============================] - 4s 5ms/step - loss: 0.0931 - accuracy: 0.9621\n",
            "Epoch 8/100\n",
            "804/804 [==============================] - 4s 5ms/step - loss: 0.0923 - accuracy: 0.9621\n",
            "Epoch 9/100\n",
            "804/804 [==============================] - 4s 5ms/step - loss: 0.0921 - accuracy: 0.9625\n",
            "Epoch 10/100\n",
            "804/804 [==============================] - 4s 5ms/step - loss: 0.0916 - accuracy: 0.9625\n",
            "Epoch 11/100\n",
            "804/804 [==============================] - 4s 5ms/step - loss: 0.0902 - accuracy: 0.9631\n",
            "Epoch 12/100\n",
            "804/804 [==============================] - 4s 5ms/step - loss: 0.0898 - accuracy: 0.9629\n",
            "Epoch 13/100\n",
            "804/804 [==============================] - 4s 5ms/step - loss: 0.0893 - accuracy: 0.9627\n",
            "Epoch 14/100\n",
            "804/804 [==============================] - 4s 5ms/step - loss: 0.0892 - accuracy: 0.9638\n",
            "Epoch 15/100\n",
            "804/804 [==============================] - 4s 5ms/step - loss: 0.0890 - accuracy: 0.9635\n",
            "Epoch 16/100\n",
            "804/804 [==============================] - 4s 5ms/step - loss: 0.0889 - accuracy: 0.9628\n",
            "Epoch 17/100\n",
            "804/804 [==============================] - 4s 5ms/step - loss: 0.0886 - accuracy: 0.9634\n",
            "Epoch 18/100\n",
            "804/804 [==============================] - 4s 5ms/step - loss: 0.0875 - accuracy: 0.9637\n",
            "Epoch 19/100\n",
            "804/804 [==============================] - 4s 5ms/step - loss: 0.0880 - accuracy: 0.9633\n",
            "Epoch 20/100\n",
            "804/804 [==============================] - 4s 5ms/step - loss: 0.0882 - accuracy: 0.9636\n",
            "Epoch 21/100\n",
            "804/804 [==============================] - 4s 5ms/step - loss: 0.0874 - accuracy: 0.9636\n",
            "Epoch 22/100\n",
            "804/804 [==============================] - 4s 5ms/step - loss: 0.0874 - accuracy: 0.9633\n",
            "Epoch 23/100\n",
            "804/804 [==============================] - 4s 5ms/step - loss: 0.0872 - accuracy: 0.9640\n",
            "Epoch 24/100\n",
            "804/804 [==============================] - 4s 5ms/step - loss: 0.0874 - accuracy: 0.9644\n",
            "Epoch 25/100\n",
            "804/804 [==============================] - 4s 5ms/step - loss: 0.0868 - accuracy: 0.9637\n",
            "Epoch 26/100\n",
            "804/804 [==============================] - 4s 5ms/step - loss: 0.0866 - accuracy: 0.9647\n",
            "Epoch 27/100\n",
            "804/804 [==============================] - 4s 5ms/step - loss: 0.0873 - accuracy: 0.9645\n",
            "Epoch 28/100\n",
            "804/804 [==============================] - 4s 5ms/step - loss: 0.0868 - accuracy: 0.9642\n",
            "Epoch 29/100\n",
            "804/804 [==============================] - 4s 5ms/step - loss: 0.0868 - accuracy: 0.9642\n",
            "Epoch 30/100\n",
            "804/804 [==============================] - 4s 5ms/step - loss: 0.0865 - accuracy: 0.9644\n",
            "Epoch 31/100\n",
            "804/804 [==============================] - 4s 5ms/step - loss: 0.0862 - accuracy: 0.9642\n",
            "Epoch 32/100\n",
            "804/804 [==============================] - 4s 5ms/step - loss: 0.0864 - accuracy: 0.9638\n",
            "Epoch 33/100\n",
            "804/804 [==============================] - 4s 5ms/step - loss: 0.0859 - accuracy: 0.9650\n",
            "Epoch 34/100\n",
            "804/804 [==============================] - 4s 5ms/step - loss: 0.0858 - accuracy: 0.9647\n",
            "Epoch 35/100\n",
            "804/804 [==============================] - 4s 5ms/step - loss: 0.0851 - accuracy: 0.9649\n",
            "Epoch 36/100\n",
            "804/804 [==============================] - 4s 5ms/step - loss: 0.0853 - accuracy: 0.9650\n",
            "Epoch 37/100\n",
            "804/804 [==============================] - 4s 5ms/step - loss: 0.0850 - accuracy: 0.9651\n",
            "Epoch 38/100\n",
            "804/804 [==============================] - 4s 5ms/step - loss: 0.0849 - accuracy: 0.9648\n",
            "Epoch 39/100\n",
            "804/804 [==============================] - 4s 5ms/step - loss: 0.0849 - accuracy: 0.9653\n",
            "Epoch 40/100\n",
            "804/804 [==============================] - 4s 5ms/step - loss: 0.0846 - accuracy: 0.9649\n",
            "Epoch 41/100\n",
            "804/804 [==============================] - 4s 5ms/step - loss: 0.0842 - accuracy: 0.9656\n",
            "Epoch 42/100\n",
            "804/804 [==============================] - 4s 5ms/step - loss: 0.0840 - accuracy: 0.9649\n",
            "Epoch 43/100\n",
            "804/804 [==============================] - 4s 5ms/step - loss: 0.0838 - accuracy: 0.9646\n",
            "Epoch 44/100\n",
            "804/804 [==============================] - 4s 5ms/step - loss: 0.0841 - accuracy: 0.9651\n",
            "Epoch 45/100\n",
            "804/804 [==============================] - 4s 5ms/step - loss: 0.0853 - accuracy: 0.9654\n",
            "Epoch 46/100\n",
            "804/804 [==============================] - 4s 5ms/step - loss: 0.0845 - accuracy: 0.9651\n",
            "Epoch 47/100\n",
            "804/804 [==============================] - 4s 5ms/step - loss: 0.0838 - accuracy: 0.9654\n",
            "Epoch 48/100\n",
            "804/804 [==============================] - 4s 5ms/step - loss: 0.0833 - accuracy: 0.9656\n",
            "Epoch 49/100\n",
            "804/804 [==============================] - 4s 5ms/step - loss: 0.0832 - accuracy: 0.9657\n",
            "Epoch 50/100\n",
            "804/804 [==============================] - 4s 5ms/step - loss: 0.0829 - accuracy: 0.9653\n",
            "Epoch 51/100\n",
            "804/804 [==============================] - 4s 5ms/step - loss: 0.0833 - accuracy: 0.9652\n",
            "Epoch 52/100\n",
            "804/804 [==============================] - 4s 5ms/step - loss: 0.0840 - accuracy: 0.9645\n",
            "Epoch 53/100\n",
            "804/804 [==============================] - 4s 5ms/step - loss: 0.0834 - accuracy: 0.9650\n",
            "Epoch 54/100\n",
            "804/804 [==============================] - 4s 5ms/step - loss: 0.0830 - accuracy: 0.9649\n",
            "Epoch 55/100\n",
            "804/804 [==============================] - 4s 5ms/step - loss: 0.0831 - accuracy: 0.9655\n",
            "Epoch 56/100\n",
            "804/804 [==============================] - 4s 5ms/step - loss: 0.0827 - accuracy: 0.9653\n",
            "Epoch 57/100\n",
            "804/804 [==============================] - 4s 5ms/step - loss: 0.0829 - accuracy: 0.9652\n",
            "Epoch 58/100\n",
            "804/804 [==============================] - 4s 5ms/step - loss: 0.0826 - accuracy: 0.9659\n",
            "Epoch 59/100\n",
            "804/804 [==============================] - 4s 5ms/step - loss: 0.0825 - accuracy: 0.9654\n",
            "Epoch 60/100\n",
            "804/804 [==============================] - 4s 5ms/step - loss: 0.0826 - accuracy: 0.9654\n",
            "Epoch 61/100\n",
            "804/804 [==============================] - 4s 5ms/step - loss: 0.0822 - accuracy: 0.9658\n",
            "Epoch 62/100\n",
            "804/804 [==============================] - 4s 5ms/step - loss: 0.0824 - accuracy: 0.9661\n",
            "Epoch 63/100\n",
            "804/804 [==============================] - 4s 5ms/step - loss: 0.0823 - accuracy: 0.9657\n",
            "Epoch 64/100\n",
            "804/804 [==============================] - 4s 5ms/step - loss: 0.0822 - accuracy: 0.9653\n",
            "Epoch 65/100\n",
            "804/804 [==============================] - 4s 5ms/step - loss: 0.0818 - accuracy: 0.9664\n",
            "Epoch 66/100\n",
            "804/804 [==============================] - 4s 5ms/step - loss: 0.0817 - accuracy: 0.9655\n",
            "Epoch 67/100\n",
            "804/804 [==============================] - 4s 5ms/step - loss: 0.0821 - accuracy: 0.9658\n",
            "Epoch 68/100\n",
            "804/804 [==============================] - 4s 5ms/step - loss: 0.0818 - accuracy: 0.9659\n",
            "Epoch 69/100\n",
            "804/804 [==============================] - 4s 5ms/step - loss: 0.0818 - accuracy: 0.9661\n",
            "Epoch 70/100\n",
            "804/804 [==============================] - 4s 5ms/step - loss: 0.0817 - accuracy: 0.9661\n",
            "Epoch 71/100\n",
            "804/804 [==============================] - 4s 5ms/step - loss: 0.0818 - accuracy: 0.9658\n",
            "Epoch 72/100\n",
            "804/804 [==============================] - 4s 5ms/step - loss: 0.0820 - accuracy: 0.9654\n",
            "Epoch 73/100\n",
            "804/804 [==============================] - 4s 5ms/step - loss: 0.0813 - accuracy: 0.9660\n",
            "Epoch 74/100\n",
            "804/804 [==============================] - 4s 5ms/step - loss: 0.0813 - accuracy: 0.9664\n",
            "Epoch 75/100\n",
            "804/804 [==============================] - 4s 5ms/step - loss: 0.0815 - accuracy: 0.9662\n",
            "Epoch 76/100\n",
            "804/804 [==============================] - 4s 5ms/step - loss: 0.0813 - accuracy: 0.9657\n",
            "Epoch 77/100\n",
            "804/804 [==============================] - 4s 5ms/step - loss: 0.0816 - accuracy: 0.9657\n",
            "Epoch 78/100\n",
            "804/804 [==============================] - 4s 5ms/step - loss: 0.0814 - accuracy: 0.9661\n",
            "Epoch 79/100\n",
            "804/804 [==============================] - 4s 5ms/step - loss: 0.0813 - accuracy: 0.9657\n",
            "Epoch 80/100\n",
            "804/804 [==============================] - 4s 5ms/step - loss: 0.0812 - accuracy: 0.9658\n",
            "Epoch 81/100\n",
            "804/804 [==============================] - 4s 5ms/step - loss: 0.0811 - accuracy: 0.9661\n",
            "Epoch 82/100\n",
            "804/804 [==============================] - 4s 5ms/step - loss: 0.0808 - accuracy: 0.9662\n",
            "Epoch 83/100\n",
            "804/804 [==============================] - 4s 5ms/step - loss: 0.0807 - accuracy: 0.9659\n",
            "Epoch 84/100\n",
            "804/804 [==============================] - 4s 5ms/step - loss: 0.0808 - accuracy: 0.9659\n",
            "Epoch 85/100\n",
            "804/804 [==============================] - 4s 5ms/step - loss: 0.0811 - accuracy: 0.9658\n",
            "Epoch 86/100\n",
            "804/804 [==============================] - 4s 5ms/step - loss: 0.0806 - accuracy: 0.9662\n",
            "Epoch 87/100\n",
            "804/804 [==============================] - 4s 5ms/step - loss: 0.0812 - accuracy: 0.9658\n",
            "Epoch 88/100\n",
            "804/804 [==============================] - 4s 5ms/step - loss: 0.0806 - accuracy: 0.9661\n",
            "Epoch 89/100\n",
            "804/804 [==============================] - 4s 5ms/step - loss: 0.0804 - accuracy: 0.9661\n",
            "Epoch 90/100\n",
            "804/804 [==============================] - 4s 5ms/step - loss: 0.0803 - accuracy: 0.9660\n",
            "Epoch 91/100\n",
            "804/804 [==============================] - 4s 5ms/step - loss: 0.0804 - accuracy: 0.9664\n",
            "Epoch 92/100\n",
            "804/804 [==============================] - 4s 5ms/step - loss: 0.0804 - accuracy: 0.9664\n",
            "Epoch 93/100\n",
            "804/804 [==============================] - 4s 5ms/step - loss: 0.0800 - accuracy: 0.9667\n",
            "Epoch 94/100\n",
            "804/804 [==============================] - 4s 5ms/step - loss: 0.0804 - accuracy: 0.9665\n",
            "Epoch 95/100\n",
            "804/804 [==============================] - 4s 5ms/step - loss: 0.0800 - accuracy: 0.9663\n",
            "Epoch 96/100\n",
            "804/804 [==============================] - 4s 5ms/step - loss: 0.0799 - accuracy: 0.9672\n",
            "Epoch 97/100\n",
            "804/804 [==============================] - 4s 5ms/step - loss: 0.0804 - accuracy: 0.9661\n",
            "Epoch 98/100\n",
            "804/804 [==============================] - 4s 5ms/step - loss: 0.0808 - accuracy: 0.9662\n",
            "Epoch 99/100\n",
            "804/804 [==============================] - 4s 5ms/step - loss: 0.0804 - accuracy: 0.9667\n",
            "Epoch 100/100\n",
            "804/804 [==============================] - 4s 5ms/step - loss: 0.0801 - accuracy: 0.9663\n"
          ]
        }
      ],
      "source": [
        "# Train the model\n",
        "fit_model = nn.fit(X_train_scaled,Y_train,epochs=100)"
      ]
    },
    {
      "cell_type": "code",
      "execution_count": 19,
      "metadata": {
        "id": "8ZHoZ_bX_n0t",
        "outputId": "468a4713-58fb-487e-8bd5-75cb933afd7c",
        "colab": {
          "base_uri": "https://localhost:8080/"
        }
      },
      "outputs": [
        {
          "output_type": "stream",
          "name": "stdout",
          "text": [
            "268/268 - 1s - loss: 0.7802 - accuracy: 0.6241 - 705ms/epoch - 3ms/step\n",
            "Loss: 0.7801631689071655, Accuracy: 0.6241399645805359\n"
          ]
        }
      ],
      "source": [
        "# Evaluate the model using the test data\n",
        "model_loss, model_accuracy = nn.evaluate(X_test_scaled,Y_test,verbose=2)\n",
        "print(f\"Loss: {model_loss}, Accuracy: {model_accuracy}\")"
      ]
    },
    {
      "cell_type": "code",
      "execution_count": 20,
      "metadata": {
        "id": "mC8nqhmm_n0t"
      },
      "outputs": [],
      "source": [
        "# Export our model to HDF5 file\n",
        "nn.save('../AlphabetSoupCharity_Optimization1.h5')"
      ]
    }
  ],
  "metadata": {
    "kernelspec": {
      "display_name": "Python 3 (ipykernel)",
      "language": "python",
      "name": "python3"
    },
    "language_info": {
      "codemirror_mode": {
        "name": "ipython",
        "version": 3
      },
      "file_extension": ".py",
      "mimetype": "text/x-python",
      "name": "python",
      "nbconvert_exporter": "python",
      "pygments_lexer": "ipython3",
      "version": "3.9.13"
    },
    "colab": {
      "provenance": [],
      "machine_shape": "hm"
    },
    "gpuClass": "standard"
  },
  "nbformat": 4,
  "nbformat_minor": 0
}