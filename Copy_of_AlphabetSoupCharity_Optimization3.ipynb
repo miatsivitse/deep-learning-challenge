{
  "cells": [
    {
      "cell_type": "markdown",
      "metadata": {
        "id": "CObb2-BX_n0k"
      },
      "source": [
        "## Preprocessing"
      ]
    },
    {
      "cell_type": "code",
      "execution_count": null,
      "metadata": {
        "id": "Fyr1rpwg_n0m"
      },
      "outputs": [],
      "source": [
        "# Import our dependencies\n",
        "from sklearn.model_selection import train_test_split\n",
        "from sklearn.preprocessing import StandardScaler\n",
        "import pandas as pd\n",
        "import tensorflow as tf\n",
        "\n",
        "#  Import and read the charity_data.csv.\n",
        "import pandas as pd \n",
        "application_df = pd.read_csv(\"charity_data.csv\")"
      ]
    },
    {
      "cell_type": "code",
      "execution_count": null,
      "metadata": {
        "id": "-M_xi2vS_n0o"
      },
      "outputs": [],
      "source": [
        "# Drop the non-beneficial ID columns, 'EIN' and 'NAME'.\n",
        "updated_applications = application_df.drop(columns=['NAME' , 'EIN'], axis=1)"
      ]
    },
    {
      "cell_type": "code",
      "source": [
        "# Look at APPLICATION_TYPE value counts for binning\n",
        "application_counts = updated_applications['APPLICATION_TYPE'].value_counts()\n",
        "application_counts"
      ],
      "metadata": {
        "colab": {
          "base_uri": "https://localhost:8080/"
        },
        "id": "Zna59l2bNWKf",
        "outputId": "bbb148be-fb35-4404-e170-b35cad9e6acd"
      },
      "execution_count": null,
      "outputs": [
        {
          "output_type": "execute_result",
          "data": {
            "text/plain": [
              "T3     27037\n",
              "T4      1542\n",
              "T6      1216\n",
              "T5      1173\n",
              "T19     1065\n",
              "T8       737\n",
              "T7       725\n",
              "T10      528\n",
              "T9       156\n",
              "T13       66\n",
              "T12       27\n",
              "T2        16\n",
              "T25        3\n",
              "T14        3\n",
              "T29        2\n",
              "T15        2\n",
              "T17        1\n",
              "Name: APPLICATION_TYPE, dtype: int64"
            ]
          },
          "metadata": {},
          "execution_count": 3
        }
      ]
    },
    {
      "cell_type": "code",
      "execution_count": 18,
      "metadata": {
        "id": "tgBSoFTC_n0o",
        "outputId": "25a69fc7-5280-410b-8c22-919ce9ada9da",
        "colab": {
          "base_uri": "https://localhost:8080/"
        }
      },
      "outputs": [
        {
          "output_type": "execute_result",
          "data": {
            "text/plain": [
              "T3     27037\n",
              "T4      1542\n",
              "T6      1216\n",
              "T5      1173\n",
              "T19     1065\n",
              "T8       737\n",
              "T7       725\n",
              "T10      528\n",
              "T9       156\n",
              "T13       66\n",
              "T12       27\n",
              "T2        16\n",
              "Name: APPLICATION_TYPE, dtype: int64"
            ]
          },
          "metadata": {},
          "execution_count": 18
        }
      ],
      "source": [
        "# Look at APPLICATION_TYPE value counts for binning\n",
        "reduced_applications = updated_applications['APPLICATION_TYPE'].value_counts()[updated_applications['APPLICATION_TYPE'].value_counts()>10]\n",
        "reduced_applications"
      ]
    },
    {
      "cell_type": "code",
      "execution_count": 19,
      "metadata": {
        "id": "C-m9lBYh_n0p",
        "outputId": "d2025d17-ad81-4e67-df34-044eb728e408",
        "colab": {
          "base_uri": "https://localhost:8080/"
        }
      },
      "outputs": [
        {
          "output_type": "execute_result",
          "data": {
            "text/plain": [
              "T3       27037\n",
              "T4        1542\n",
              "T6        1216\n",
              "T5        1173\n",
              "T19       1065\n",
              "T8         737\n",
              "T7         725\n",
              "T10        528\n",
              "Other      276\n",
              "Name: APPLICATION_TYPE, dtype: int64"
            ]
          },
          "metadata": {},
          "execution_count": 19
        }
      ],
      "source": [
        "# Choose a cutoff value and create a list of application types to be replaced\n",
        "# use the variable name `application_types_to_replace`\n",
        "application_types_to_replace = updated_applications['APPLICATION_TYPE'].value_counts(ascending=False).index[8:].tolist()\n",
        "\n",
        "# Replace in dataframe\n",
        "for app in application_types_to_replace:\n",
        "    application_df['APPLICATION_TYPE'] = application_df['APPLICATION_TYPE'].replace(app,\"Other\")\n",
        "\n",
        "# Check to make sure binning was successful\n",
        "application_df['APPLICATION_TYPE'].value_counts()"
      ]
    },
    {
      "cell_type": "code",
      "execution_count": 20,
      "metadata": {
        "id": "k03Jyp5R_n0p",
        "outputId": "b3754b29-7136-4c41-a11c-9258a3aa29e2",
        "colab": {
          "base_uri": "https://localhost:8080/"
        }
      },
      "outputs": [
        {
          "output_type": "execute_result",
          "data": {
            "text/plain": [
              "C1000    17326\n",
              "C2000     6074\n",
              "C1200     4837\n",
              "Other     4144\n",
              "C3000     1918\n",
              "Name: CLASSIFICATION, dtype: int64"
            ]
          },
          "metadata": {},
          "execution_count": 20
        }
      ],
      "source": [
        "# Look at CLASSIFICATION value counts for binning\n",
        "classification_count = application_df['CLASSIFICATION'].value_counts()\n",
        "classification_count"
      ]
    },
    {
      "cell_type": "code",
      "execution_count": 21,
      "metadata": {
        "id": "LiI0QGHr_n0q",
        "outputId": "ea4ad7db-90a5-421f-e6f3-7f992e23659a",
        "colab": {
          "base_uri": "https://localhost:8080/"
        }
      },
      "outputs": [
        {
          "output_type": "execute_result",
          "data": {
            "text/plain": [
              "C1000    17326\n",
              "C2000     6074\n",
              "C1200     4837\n",
              "Other     4144\n",
              "C3000     1918\n",
              "Name: CLASSIFICATION, dtype: int64"
            ]
          },
          "metadata": {},
          "execution_count": 21
        }
      ],
      "source": [
        "# You may find it helpful to look at CLASSIFICATION value counts >1\n",
        "classification_count[classification_count>1]\n",
        "classification_count"
      ]
    },
    {
      "cell_type": "code",
      "execution_count": 22,
      "metadata": {
        "id": "7Nek31xg_n0q",
        "outputId": "53eab574-b05c-4beb-c3c5-0c7e3184849c",
        "colab": {
          "base_uri": "https://localhost:8080/"
        }
      },
      "outputs": [
        {
          "output_type": "execute_result",
          "data": {
            "text/plain": [
              "C1000    17326\n",
              "C2000     6074\n",
              "Other     6062\n",
              "C1200     4837\n",
              "Name: CLASSIFICATION, dtype: int64"
            ]
          },
          "metadata": {},
          "execution_count": 22
        }
      ],
      "source": [
        "# Choose a cutoff value and create a list of classifications to be replaced\n",
        "# use the variable name `classifications_to_replace`\n",
        "classifications_to_replace = application_df['CLASSIFICATION'].value_counts(ascending=False).index[4:].tolist()\n",
        "\n",
        "# Replace in dataframe\n",
        "for cls in classifications_to_replace:\n",
        "    application_df['CLASSIFICATION'] = application_df['CLASSIFICATION'].replace(cls,\"Other\")\n",
        "    \n",
        "# Check to make sure binning was successful\n",
        "application_df['CLASSIFICATION'].value_counts()"
      ]
    },
    {
      "cell_type": "code",
      "execution_count": 23,
      "metadata": {
        "id": "LiU80kZF_n0r"
      },
      "outputs": [],
      "source": [
        "# Convert categorical data to numeric with `pd.get_dummies`\n",
        "numeric_data = pd.get_dummies(application_df, dtype=float)"
      ]
    },
    {
      "cell_type": "code",
      "execution_count": 24,
      "metadata": {
        "id": "SvsUeGrh_n0r"
      },
      "outputs": [],
      "source": [
        "# Split our preprocessed data into our features and target arrays\n",
        "x = numeric_data.drop(columns = ['IS_SUCCESSFUL']).values\n",
        "y = numeric_data['IS_SUCCESSFUL'].values\n",
        "\n",
        "# Split the preprocessed data into a training and testing dataset\n",
        "X_train, X_test, Y_train, Y_test = train_test_split(x,y, random_state=42)"
      ]
    },
    {
      "cell_type": "code",
      "execution_count": 25,
      "metadata": {
        "id": "mDH8hUa5_n0r"
      },
      "outputs": [],
      "source": [
        "# Create a StandardScaler instances\n",
        "scaler = StandardScaler()\n",
        "\n",
        "# Fit the StandardScaler\n",
        "X_scaler = scaler.fit(X_train)\n",
        "\n",
        "# Scale the data\n",
        "X_train_scaled = X_scaler.transform(X_train)\n",
        "X_test_scaled = X_scaler.transform(X_test)"
      ]
    },
    {
      "cell_type": "markdown",
      "metadata": {
        "id": "28yw5tJ2_n0s"
      },
      "source": [
        "## Compile, Train and Evaluate the Model"
      ]
    },
    {
      "cell_type": "code",
      "execution_count": 26,
      "metadata": {
        "id": "GRZxYHac_n0s",
        "outputId": "48aee1c0-37ed-4c24-9b47-554118a2925d",
        "colab": {
          "base_uri": "https://localhost:8080/"
        }
      },
      "outputs": [
        {
          "output_type": "stream",
          "name": "stdout",
          "text": [
            "Input Features = 19610\n",
            "Hidden Nodes - Layer 1 = 10\n",
            "Hidden Nodes - Layer 2 = 15\n",
            "Hidden Nodes - Layer 3 = 20\n",
            "Hidden Nodes - Layer 4 = 20\n",
            "Model: \"sequential_2\"\n",
            "_________________________________________________________________\n",
            " Layer (type)                Output Shape              Param #   \n",
            "=================================================================\n",
            " dense_11 (Dense)            (None, 10)                196110    \n",
            "                                                                 \n",
            " dense_12 (Dense)            (None, 15)                165       \n",
            "                                                                 \n",
            " dense_13 (Dense)            (None, 20)                320       \n",
            "                                                                 \n",
            " dense_14 (Dense)            (None, 20)                420       \n",
            "                                                                 \n",
            " dense_15 (Dense)            (None, 1)                 21        \n",
            "                                                                 \n",
            "=================================================================\n",
            "Total params: 197,036\n",
            "Trainable params: 197,036\n",
            "Non-trainable params: 0\n",
            "_________________________________________________________________\n"
          ]
        }
      ],
      "source": [
        "# Define the model - deep neural net, i.e., the number of input features and hidden nodes for each layer.\n",
        "\n",
        "number_input_features = len(X_train[0])\n",
        "print(\"Input Features =\", number_input_features)\n",
        "hidden_nodes_layer1 = 10\n",
        "print(\"Hidden Nodes - Layer 1 =\", hidden_nodes_layer1)\n",
        "hidden_nodes_layer2 = 15\n",
        "print(\"Hidden Nodes - Layer 2 =\", hidden_nodes_layer2)\n",
        "hidden_nodes_layer3 = 20\n",
        "print(\"Hidden Nodes - Layer 3 =\", hidden_nodes_layer3)\n",
        "hidden_nodes_layer4 = 20\n",
        "print(\"Hidden Nodes - Layer 4 =\", hidden_nodes_layer4)\n",
        "\n",
        "#Keras Sequential Model\n",
        "nn = tf.keras.models.Sequential()\n",
        "\n",
        "# First hidden layer\n",
        "nn.add(tf.keras.layers.Dense(units=hidden_nodes_layer1, input_dim=number_input_features, activation=\"relu\"))\n",
        "\n",
        "# Second hidden layer\n",
        "nn.add(tf.keras.layers.Dense(units=hidden_nodes_layer2, activation=\"relu\"))\n",
        "\n",
        "# Third hidden layer\n",
        "nn.add(tf.keras.layers.Dense(units=hidden_nodes_layer3, activation=\"relu\"))\n",
        "\n",
        "# Fourth hidden layer\n",
        "nn.add(tf.keras.layers.Dense(units=hidden_nodes_layer4, activation=\"relu\"))\n",
        "\n",
        "# Output layer\n",
        "nn.add(tf.keras.layers.Dense(units=1, activation=\"sigmoid\"))\n",
        "\n",
        "# Check the structure of the model\n",
        "nn.summary()"
      ]
    },
    {
      "cell_type": "code",
      "execution_count": 28,
      "metadata": {
        "id": "2PUSznm0_n0s"
      },
      "outputs": [],
      "source": [
        "# Compile the model\n",
        "nn.compile(loss=\"binary_crossentropy\", optimizer=\"adam\", metrics=[\"accuracy\"])"
      ]
    },
    {
      "cell_type": "code",
      "execution_count": 29,
      "metadata": {
        "id": "hRNNlVX9_n0t",
        "colab": {
          "base_uri": "https://localhost:8080/"
        },
        "outputId": "749011a9-2851-4a63-de6b-e187d590def2"
      },
      "outputs": [
        {
          "output_type": "stream",
          "name": "stdout",
          "text": [
            "Epoch 1/150\n",
            "684/684 [==============================] - 5s 6ms/step - loss: 0.5427 - accuracy: 0.7464 - val_loss: 0.5005 - val_accuracy: 0.7489\n",
            "Epoch 2/150\n",
            "684/684 [==============================] - 4s 5ms/step - loss: 0.3052 - accuracy: 0.8626 - val_loss: 0.5680 - val_accuracy: 0.7512\n",
            "Epoch 3/150\n",
            "684/684 [==============================] - 4s 5ms/step - loss: 0.1512 - accuracy: 0.9434 - val_loss: 0.6089 - val_accuracy: 0.7852\n",
            "Epoch 4/150\n",
            "684/684 [==============================] - 4s 5ms/step - loss: 0.1152 - accuracy: 0.9563 - val_loss: 0.6420 - val_accuracy: 0.7442\n",
            "Epoch 5/150\n",
            "684/684 [==============================] - 4s 5ms/step - loss: 0.0999 - accuracy: 0.9600 - val_loss: 0.6545 - val_accuracy: 0.7367\n",
            "Epoch 6/150\n",
            "684/684 [==============================] - 4s 5ms/step - loss: 0.0946 - accuracy: 0.9621 - val_loss: 0.9162 - val_accuracy: 0.6655\n",
            "Epoch 7/150\n",
            "684/684 [==============================] - 4s 5ms/step - loss: 0.0930 - accuracy: 0.9616 - val_loss: 1.2627 - val_accuracy: 0.6129\n",
            "Epoch 8/150\n",
            "684/684 [==============================] - 4s 5ms/step - loss: 0.0911 - accuracy: 0.9624 - val_loss: 1.2019 - val_accuracy: 0.6072\n",
            "Epoch 9/150\n",
            "684/684 [==============================] - 4s 5ms/step - loss: 0.0903 - accuracy: 0.9630 - val_loss: 1.5748 - val_accuracy: 0.5960\n",
            "Epoch 10/150\n",
            "684/684 [==============================] - 4s 5ms/step - loss: 0.0895 - accuracy: 0.9621 - val_loss: 1.4713 - val_accuracy: 0.5994\n",
            "Epoch 11/150\n",
            "684/684 [==============================] - 4s 5ms/step - loss: 0.0889 - accuracy: 0.9625 - val_loss: 1.1583 - val_accuracy: 0.6292\n",
            "Epoch 12/150\n",
            "684/684 [==============================] - 4s 6ms/step - loss: 0.0885 - accuracy: 0.9635 - val_loss: 1.7516 - val_accuracy: 0.5976\n",
            "Epoch 13/150\n",
            "684/684 [==============================] - 4s 6ms/step - loss: 0.0874 - accuracy: 0.9627 - val_loss: 1.9045 - val_accuracy: 0.5807\n",
            "Epoch 14/150\n",
            "684/684 [==============================] - 4s 6ms/step - loss: 0.0873 - accuracy: 0.9633 - val_loss: 2.0604 - val_accuracy: 0.5859\n",
            "Epoch 15/150\n",
            "684/684 [==============================] - 4s 6ms/step - loss: 0.0869 - accuracy: 0.9638 - val_loss: 1.9818 - val_accuracy: 0.5919\n",
            "Epoch 16/150\n",
            "684/684 [==============================] - 4s 6ms/step - loss: 0.0861 - accuracy: 0.9642 - val_loss: 1.9709 - val_accuracy: 0.5831\n",
            "Epoch 17/150\n",
            "684/684 [==============================] - 4s 5ms/step - loss: 0.0859 - accuracy: 0.9637 - val_loss: 2.3722 - val_accuracy: 0.5838\n",
            "Epoch 18/150\n",
            "684/684 [==============================] - 4s 5ms/step - loss: 0.0857 - accuracy: 0.9642 - val_loss: 2.5470 - val_accuracy: 0.5838\n",
            "Epoch 19/150\n",
            "684/684 [==============================] - 4s 6ms/step - loss: 0.0843 - accuracy: 0.9648 - val_loss: 2.1600 - val_accuracy: 0.5867\n",
            "Epoch 20/150\n",
            "684/684 [==============================] - 4s 6ms/step - loss: 0.0853 - accuracy: 0.9644 - val_loss: 1.9286 - val_accuracy: 0.5906\n",
            "Epoch 21/150\n",
            "684/684 [==============================] - 4s 5ms/step - loss: 0.0848 - accuracy: 0.9642 - val_loss: 2.6097 - val_accuracy: 0.5877\n",
            "Epoch 22/150\n",
            "684/684 [==============================] - 4s 5ms/step - loss: 0.0847 - accuracy: 0.9641 - val_loss: 1.9441 - val_accuracy: 0.5986\n",
            "Epoch 23/150\n",
            "684/684 [==============================] - 4s 5ms/step - loss: 0.0840 - accuracy: 0.9647 - val_loss: 2.0949 - val_accuracy: 0.6074\n",
            "Epoch 24/150\n",
            "684/684 [==============================] - 4s 6ms/step - loss: 0.0839 - accuracy: 0.9645 - val_loss: 1.9241 - val_accuracy: 0.6131\n",
            "Epoch 25/150\n",
            "684/684 [==============================] - 4s 6ms/step - loss: 0.0828 - accuracy: 0.9647 - val_loss: 1.9475 - val_accuracy: 0.6167\n",
            "Epoch 26/150\n",
            "684/684 [==============================] - 4s 5ms/step - loss: 0.0831 - accuracy: 0.9646 - val_loss: 1.4605 - val_accuracy: 0.6354\n",
            "Epoch 27/150\n",
            "684/684 [==============================] - 4s 5ms/step - loss: 0.0826 - accuracy: 0.9657 - val_loss: 1.9292 - val_accuracy: 0.6007\n",
            "Epoch 28/150\n",
            "684/684 [==============================] - 4s 6ms/step - loss: 0.0822 - accuracy: 0.9647 - val_loss: 1.7104 - val_accuracy: 0.6230\n",
            "Epoch 29/150\n",
            "684/684 [==============================] - 4s 6ms/step - loss: 0.0879 - accuracy: 0.9637 - val_loss: 1.7631 - val_accuracy: 0.5823\n",
            "Epoch 30/150\n",
            "684/684 [==============================] - 4s 5ms/step - loss: 0.1008 - accuracy: 0.9617 - val_loss: 1.7143 - val_accuracy: 0.5786\n",
            "Epoch 31/150\n",
            "684/684 [==============================] - 4s 6ms/step - loss: 0.0932 - accuracy: 0.9614 - val_loss: 1.3757 - val_accuracy: 0.5807\n",
            "Epoch 32/150\n",
            "684/684 [==============================] - 4s 6ms/step - loss: 0.0844 - accuracy: 0.9640 - val_loss: 1.9664 - val_accuracy: 0.5825\n",
            "Epoch 33/150\n",
            "684/684 [==============================] - 4s 5ms/step - loss: 0.0824 - accuracy: 0.9646 - val_loss: 1.9585 - val_accuracy: 0.5833\n",
            "Epoch 34/150\n",
            "684/684 [==============================] - 4s 5ms/step - loss: 0.0820 - accuracy: 0.9651 - val_loss: 1.7783 - val_accuracy: 0.5794\n",
            "Epoch 35/150\n",
            "684/684 [==============================] - 4s 5ms/step - loss: 0.0815 - accuracy: 0.9651 - val_loss: 2.1060 - val_accuracy: 0.5812\n",
            "Epoch 36/150\n",
            "684/684 [==============================] - 4s 6ms/step - loss: 0.0809 - accuracy: 0.9656 - val_loss: 2.1103 - val_accuracy: 0.5799\n",
            "Epoch 37/150\n",
            "684/684 [==============================] - 4s 6ms/step - loss: 0.0809 - accuracy: 0.9656 - val_loss: 2.5537 - val_accuracy: 0.5779\n",
            "Epoch 38/150\n",
            "684/684 [==============================] - 4s 5ms/step - loss: 0.0804 - accuracy: 0.9653 - val_loss: 1.9373 - val_accuracy: 0.5805\n",
            "Epoch 39/150\n",
            "684/684 [==============================] - 4s 5ms/step - loss: 0.0804 - accuracy: 0.9662 - val_loss: 2.1983 - val_accuracy: 0.5812\n",
            "Epoch 40/150\n",
            "684/684 [==============================] - 4s 6ms/step - loss: 0.0801 - accuracy: 0.9658 - val_loss: 2.2736 - val_accuracy: 0.5828\n",
            "Epoch 41/150\n",
            "684/684 [==============================] - 4s 5ms/step - loss: 0.0792 - accuracy: 0.9661 - val_loss: 2.1184 - val_accuracy: 0.5802\n",
            "Epoch 42/150\n",
            "684/684 [==============================] - 4s 5ms/step - loss: 0.0785 - accuracy: 0.9662 - val_loss: 2.2031 - val_accuracy: 0.5799\n",
            "Epoch 43/150\n",
            "684/684 [==============================] - 4s 6ms/step - loss: 0.0786 - accuracy: 0.9668 - val_loss: 2.2682 - val_accuracy: 0.5802\n",
            "Epoch 44/150\n",
            "684/684 [==============================] - 4s 6ms/step - loss: 0.0783 - accuracy: 0.9660 - val_loss: 2.4976 - val_accuracy: 0.5805\n",
            "Epoch 45/150\n",
            "684/684 [==============================] - 4s 5ms/step - loss: 0.0783 - accuracy: 0.9670 - val_loss: 2.6468 - val_accuracy: 0.5815\n",
            "Epoch 46/150\n",
            "684/684 [==============================] - 4s 5ms/step - loss: 0.0786 - accuracy: 0.9669 - val_loss: 2.2999 - val_accuracy: 0.5802\n",
            "Epoch 47/150\n",
            "684/684 [==============================] - 4s 6ms/step - loss: 0.0778 - accuracy: 0.9664 - val_loss: 1.9615 - val_accuracy: 0.5820\n",
            "Epoch 48/150\n",
            "684/684 [==============================] - 4s 6ms/step - loss: 0.0773 - accuracy: 0.9673 - val_loss: 2.6372 - val_accuracy: 0.5818\n",
            "Epoch 49/150\n",
            "684/684 [==============================] - 4s 6ms/step - loss: 0.0771 - accuracy: 0.9668 - val_loss: 2.5559 - val_accuracy: 0.5810\n",
            "Epoch 50/150\n",
            "684/684 [==============================] - 4s 6ms/step - loss: 0.0771 - accuracy: 0.9678 - val_loss: 2.9429 - val_accuracy: 0.5812\n",
            "Epoch 51/150\n",
            "684/684 [==============================] - 4s 6ms/step - loss: 0.0765 - accuracy: 0.9670 - val_loss: 2.2243 - val_accuracy: 0.5831\n",
            "Epoch 52/150\n",
            "684/684 [==============================] - 4s 6ms/step - loss: 0.0766 - accuracy: 0.9677 - val_loss: 2.3375 - val_accuracy: 0.5833\n",
            "Epoch 53/150\n",
            "684/684 [==============================] - 4s 6ms/step - loss: 0.0763 - accuracy: 0.9673 - val_loss: 2.4897 - val_accuracy: 0.5833\n",
            "Epoch 54/150\n",
            "684/684 [==============================] - 4s 6ms/step - loss: 0.0761 - accuracy: 0.9671 - val_loss: 3.4837 - val_accuracy: 0.5805\n",
            "Epoch 55/150\n",
            "684/684 [==============================] - 4s 6ms/step - loss: 0.0763 - accuracy: 0.9684 - val_loss: 2.4173 - val_accuracy: 0.5841\n",
            "Epoch 56/150\n",
            "684/684 [==============================] - 4s 6ms/step - loss: 0.0757 - accuracy: 0.9683 - val_loss: 2.6623 - val_accuracy: 0.5807\n",
            "Epoch 57/150\n",
            "684/684 [==============================] - 4s 6ms/step - loss: 0.0748 - accuracy: 0.9681 - val_loss: 2.8100 - val_accuracy: 0.5784\n",
            "Epoch 58/150\n",
            "684/684 [==============================] - 4s 6ms/step - loss: 0.0751 - accuracy: 0.9684 - val_loss: 2.3710 - val_accuracy: 0.5815\n",
            "Epoch 59/150\n",
            "684/684 [==============================] - 4s 6ms/step - loss: 0.0757 - accuracy: 0.9675 - val_loss: 2.3253 - val_accuracy: 0.5828\n",
            "Epoch 60/150\n",
            "684/684 [==============================] - 4s 6ms/step - loss: 0.0753 - accuracy: 0.9687 - val_loss: 2.4081 - val_accuracy: 0.5807\n",
            "Epoch 61/150\n",
            "684/684 [==============================] - 4s 6ms/step - loss: 0.0748 - accuracy: 0.9682 - val_loss: 2.3203 - val_accuracy: 0.5828\n",
            "Epoch 62/150\n",
            "684/684 [==============================] - 4s 6ms/step - loss: 0.0750 - accuracy: 0.9682 - val_loss: 2.3591 - val_accuracy: 0.5802\n",
            "Epoch 63/150\n",
            "684/684 [==============================] - 4s 5ms/step - loss: 0.0755 - accuracy: 0.9678 - val_loss: 2.2275 - val_accuracy: 0.5789\n",
            "Epoch 64/150\n",
            "684/684 [==============================] - 4s 6ms/step - loss: 0.0748 - accuracy: 0.9688 - val_loss: 2.3462 - val_accuracy: 0.5810\n",
            "Epoch 65/150\n",
            "684/684 [==============================] - 4s 6ms/step - loss: 0.0744 - accuracy: 0.9684 - val_loss: 2.4534 - val_accuracy: 0.5802\n",
            "Epoch 66/150\n",
            "684/684 [==============================] - 4s 5ms/step - loss: 0.0741 - accuracy: 0.9685 - val_loss: 2.4059 - val_accuracy: 0.5846\n",
            "Epoch 67/150\n",
            "684/684 [==============================] - 4s 5ms/step - loss: 0.0744 - accuracy: 0.9686 - val_loss: 2.5109 - val_accuracy: 0.5823\n",
            "Epoch 68/150\n",
            "684/684 [==============================] - 4s 5ms/step - loss: 0.0741 - accuracy: 0.9684 - val_loss: 2.6268 - val_accuracy: 0.5812\n",
            "Epoch 69/150\n",
            "684/684 [==============================] - 4s 6ms/step - loss: 0.0740 - accuracy: 0.9681 - val_loss: 2.5338 - val_accuracy: 0.5799\n",
            "Epoch 70/150\n",
            "684/684 [==============================] - 4s 5ms/step - loss: 0.0737 - accuracy: 0.9679 - val_loss: 2.5196 - val_accuracy: 0.5794\n",
            "Epoch 71/150\n",
            "684/684 [==============================] - 4s 5ms/step - loss: 0.0734 - accuracy: 0.9689 - val_loss: 2.6765 - val_accuracy: 0.5810\n",
            "Epoch 72/150\n",
            "684/684 [==============================] - 4s 5ms/step - loss: 0.0739 - accuracy: 0.9679 - val_loss: 2.7809 - val_accuracy: 0.5797\n",
            "Epoch 73/150\n",
            "684/684 [==============================] - 4s 5ms/step - loss: 0.0739 - accuracy: 0.9682 - val_loss: 2.9690 - val_accuracy: 0.5797\n",
            "Epoch 74/150\n",
            "684/684 [==============================] - 4s 5ms/step - loss: 0.0738 - accuracy: 0.9687 - val_loss: 2.7844 - val_accuracy: 0.5815\n",
            "Epoch 75/150\n",
            "684/684 [==============================] - 4s 5ms/step - loss: 0.0727 - accuracy: 0.9685 - val_loss: 2.2265 - val_accuracy: 0.5825\n",
            "Epoch 76/150\n",
            "684/684 [==============================] - 4s 6ms/step - loss: 0.0738 - accuracy: 0.9680 - val_loss: 2.6376 - val_accuracy: 0.5820\n",
            "Epoch 77/150\n",
            "684/684 [==============================] - 4s 5ms/step - loss: 0.0740 - accuracy: 0.9685 - val_loss: 2.2234 - val_accuracy: 0.5841\n",
            "Epoch 78/150\n",
            "684/684 [==============================] - 4s 6ms/step - loss: 0.0727 - accuracy: 0.9691 - val_loss: 1.9545 - val_accuracy: 0.5841\n",
            "Epoch 79/150\n",
            "684/684 [==============================] - 4s 6ms/step - loss: 0.0728 - accuracy: 0.9697 - val_loss: 2.3751 - val_accuracy: 0.5807\n",
            "Epoch 80/150\n",
            "684/684 [==============================] - 4s 6ms/step - loss: 0.0732 - accuracy: 0.9684 - val_loss: 1.9135 - val_accuracy: 0.5864\n",
            "Epoch 81/150\n",
            "684/684 [==============================] - 4s 6ms/step - loss: 0.0727 - accuracy: 0.9690 - val_loss: 2.1372 - val_accuracy: 0.5838\n",
            "Epoch 82/150\n",
            "684/684 [==============================] - 4s 5ms/step - loss: 0.0739 - accuracy: 0.9686 - val_loss: 2.2362 - val_accuracy: 0.5838\n",
            "Epoch 83/150\n",
            "684/684 [==============================] - 4s 5ms/step - loss: 0.0721 - accuracy: 0.9694 - val_loss: 2.2955 - val_accuracy: 0.5867\n",
            "Epoch 84/150\n",
            "684/684 [==============================] - 4s 6ms/step - loss: 0.0728 - accuracy: 0.9694 - val_loss: 1.9038 - val_accuracy: 0.5952\n",
            "Epoch 85/150\n",
            "684/684 [==============================] - 4s 5ms/step - loss: 0.0724 - accuracy: 0.9690 - val_loss: 2.0001 - val_accuracy: 0.5911\n",
            "Epoch 86/150\n",
            "684/684 [==============================] - 4s 5ms/step - loss: 0.0721 - accuracy: 0.9694 - val_loss: 2.0422 - val_accuracy: 0.5906\n",
            "Epoch 87/150\n",
            "684/684 [==============================] - 4s 6ms/step - loss: 0.0726 - accuracy: 0.9691 - val_loss: 2.0175 - val_accuracy: 0.5893\n",
            "Epoch 88/150\n",
            "684/684 [==============================] - 4s 6ms/step - loss: 0.0725 - accuracy: 0.9694 - val_loss: 2.7155 - val_accuracy: 0.5849\n",
            "Epoch 89/150\n",
            "684/684 [==============================] - 4s 6ms/step - loss: 0.0719 - accuracy: 0.9695 - val_loss: 2.3360 - val_accuracy: 0.5880\n",
            "Epoch 90/150\n",
            "684/684 [==============================] - 4s 6ms/step - loss: 0.0722 - accuracy: 0.9694 - val_loss: 2.5038 - val_accuracy: 0.5906\n",
            "Epoch 91/150\n",
            "684/684 [==============================] - 4s 6ms/step - loss: 0.0724 - accuracy: 0.9695 - val_loss: 2.3476 - val_accuracy: 0.5854\n",
            "Epoch 92/150\n",
            "684/684 [==============================] - 4s 6ms/step - loss: 0.0722 - accuracy: 0.9693 - val_loss: 2.2147 - val_accuracy: 0.5877\n",
            "Epoch 93/150\n",
            "684/684 [==============================] - 4s 6ms/step - loss: 0.0724 - accuracy: 0.9697 - val_loss: 1.9209 - val_accuracy: 0.5903\n",
            "Epoch 94/150\n",
            "684/684 [==============================] - 4s 6ms/step - loss: 0.0721 - accuracy: 0.9694 - val_loss: 2.1322 - val_accuracy: 0.5882\n",
            "Epoch 95/150\n",
            "684/684 [==============================] - 4s 6ms/step - loss: 0.0714 - accuracy: 0.9696 - val_loss: 2.0515 - val_accuracy: 0.5856\n",
            "Epoch 96/150\n",
            "684/684 [==============================] - 4s 6ms/step - loss: 0.0715 - accuracy: 0.9694 - val_loss: 1.8745 - val_accuracy: 0.5895\n",
            "Epoch 97/150\n",
            "684/684 [==============================] - 4s 6ms/step - loss: 0.0721 - accuracy: 0.9694 - val_loss: 1.9699 - val_accuracy: 0.5903\n",
            "Epoch 98/150\n",
            "684/684 [==============================] - 4s 6ms/step - loss: 0.0716 - accuracy: 0.9696 - val_loss: 2.1421 - val_accuracy: 0.5815\n",
            "Epoch 99/150\n",
            "684/684 [==============================] - 4s 6ms/step - loss: 0.0713 - accuracy: 0.9697 - val_loss: 1.9338 - val_accuracy: 0.5872\n",
            "Epoch 100/150\n",
            "684/684 [==============================] - 4s 6ms/step - loss: 0.0709 - accuracy: 0.9701 - val_loss: 2.1048 - val_accuracy: 0.5831\n",
            "Epoch 101/150\n",
            "684/684 [==============================] - 4s 6ms/step - loss: 0.0711 - accuracy: 0.9701 - val_loss: 1.9926 - val_accuracy: 0.5890\n",
            "Epoch 102/150\n",
            "684/684 [==============================] - 4s 6ms/step - loss: 0.0717 - accuracy: 0.9696 - val_loss: 1.6619 - val_accuracy: 0.6072\n",
            "Epoch 103/150\n",
            "684/684 [==============================] - 4s 6ms/step - loss: 0.0717 - accuracy: 0.9695 - val_loss: 2.9856 - val_accuracy: 0.5789\n",
            "Epoch 104/150\n",
            "684/684 [==============================] - 4s 6ms/step - loss: 0.0720 - accuracy: 0.9695 - val_loss: 2.6652 - val_accuracy: 0.5841\n",
            "Epoch 105/150\n",
            "684/684 [==============================] - 4s 6ms/step - loss: 0.0708 - accuracy: 0.9695 - val_loss: 2.0731 - val_accuracy: 0.5877\n",
            "Epoch 106/150\n",
            "684/684 [==============================] - 5s 7ms/step - loss: 0.0718 - accuracy: 0.9702 - val_loss: 2.0918 - val_accuracy: 0.5903\n",
            "Epoch 107/150\n",
            "684/684 [==============================] - 4s 6ms/step - loss: 0.0723 - accuracy: 0.9692 - val_loss: 1.8953 - val_accuracy: 0.5991\n",
            "Epoch 108/150\n",
            "684/684 [==============================] - 4s 6ms/step - loss: 0.0715 - accuracy: 0.9695 - val_loss: 1.7372 - val_accuracy: 0.6012\n",
            "Epoch 109/150\n",
            "684/684 [==============================] - 4s 6ms/step - loss: 0.0709 - accuracy: 0.9699 - val_loss: 1.9382 - val_accuracy: 0.5955\n",
            "Epoch 110/150\n",
            "684/684 [==============================] - 4s 6ms/step - loss: 0.0707 - accuracy: 0.9702 - val_loss: 1.4484 - val_accuracy: 0.6095\n",
            "Epoch 111/150\n",
            "684/684 [==============================] - 5s 7ms/step - loss: 0.0711 - accuracy: 0.9694 - val_loss: 1.7092 - val_accuracy: 0.6033\n",
            "Epoch 112/150\n",
            "684/684 [==============================] - 4s 6ms/step - loss: 0.0712 - accuracy: 0.9700 - val_loss: 1.8107 - val_accuracy: 0.6043\n",
            "Epoch 113/150\n",
            "684/684 [==============================] - 5s 8ms/step - loss: 0.0713 - accuracy: 0.9700 - val_loss: 1.6162 - val_accuracy: 0.6012\n",
            "Epoch 114/150\n",
            "684/684 [==============================] - 5s 7ms/step - loss: 0.0710 - accuracy: 0.9701 - val_loss: 1.6007 - val_accuracy: 0.6043\n",
            "Epoch 115/150\n",
            "684/684 [==============================] - 4s 6ms/step - loss: 0.0713 - accuracy: 0.9692 - val_loss: 1.6209 - val_accuracy: 0.6048\n",
            "Epoch 116/150\n",
            "684/684 [==============================] - 5s 7ms/step - loss: 0.0716 - accuracy: 0.9702 - val_loss: 1.9080 - val_accuracy: 0.5955\n",
            "Epoch 117/150\n",
            "684/684 [==============================] - 4s 6ms/step - loss: 0.0702 - accuracy: 0.9704 - val_loss: 1.5716 - val_accuracy: 0.6069\n",
            "Epoch 118/150\n",
            "684/684 [==============================] - 4s 6ms/step - loss: 0.0705 - accuracy: 0.9697 - val_loss: 2.1326 - val_accuracy: 0.6038\n",
            "Epoch 119/150\n",
            "684/684 [==============================] - 4s 6ms/step - loss: 0.0704 - accuracy: 0.9699 - val_loss: 1.6531 - val_accuracy: 0.6061\n",
            "Epoch 120/150\n",
            "684/684 [==============================] - 4s 6ms/step - loss: 0.0701 - accuracy: 0.9708 - val_loss: 1.7264 - val_accuracy: 0.6059\n",
            "Epoch 121/150\n",
            "684/684 [==============================] - 4s 6ms/step - loss: 0.0706 - accuracy: 0.9701 - val_loss: 2.0109 - val_accuracy: 0.6074\n",
            "Epoch 122/150\n",
            "684/684 [==============================] - 4s 6ms/step - loss: 0.0703 - accuracy: 0.9703 - val_loss: 1.7728 - val_accuracy: 0.6227\n",
            "Epoch 123/150\n",
            "684/684 [==============================] - 4s 6ms/step - loss: 0.0707 - accuracy: 0.9694 - val_loss: 1.7850 - val_accuracy: 0.6046\n",
            "Epoch 124/150\n",
            "684/684 [==============================] - 4s 6ms/step - loss: 0.0700 - accuracy: 0.9705 - val_loss: 1.7841 - val_accuracy: 0.6180\n",
            "Epoch 125/150\n",
            "684/684 [==============================] - 4s 6ms/step - loss: 0.0703 - accuracy: 0.9702 - val_loss: 1.8830 - val_accuracy: 0.6046\n",
            "Epoch 126/150\n",
            "684/684 [==============================] - 4s 6ms/step - loss: 0.0698 - accuracy: 0.9696 - val_loss: 1.8689 - val_accuracy: 0.6129\n",
            "Epoch 127/150\n",
            "684/684 [==============================] - 4s 6ms/step - loss: 0.0700 - accuracy: 0.9700 - val_loss: 1.5777 - val_accuracy: 0.6204\n",
            "Epoch 128/150\n",
            "684/684 [==============================] - 4s 6ms/step - loss: 0.0699 - accuracy: 0.9698 - val_loss: 1.7727 - val_accuracy: 0.6131\n",
            "Epoch 129/150\n",
            "684/684 [==============================] - 4s 5ms/step - loss: 0.0707 - accuracy: 0.9698 - val_loss: 1.6236 - val_accuracy: 0.6167\n",
            "Epoch 130/150\n",
            "684/684 [==============================] - 4s 6ms/step - loss: 0.0696 - accuracy: 0.9706 - val_loss: 1.6794 - val_accuracy: 0.6072\n",
            "Epoch 131/150\n",
            "684/684 [==============================] - 4s 6ms/step - loss: 0.0695 - accuracy: 0.9701 - val_loss: 1.9637 - val_accuracy: 0.5958\n",
            "Epoch 132/150\n",
            "684/684 [==============================] - 4s 6ms/step - loss: 0.0707 - accuracy: 0.9699 - val_loss: 1.9896 - val_accuracy: 0.6002\n",
            "Epoch 133/150\n",
            "684/684 [==============================] - 4s 5ms/step - loss: 0.0698 - accuracy: 0.9701 - val_loss: 2.1831 - val_accuracy: 0.6048\n",
            "Epoch 134/150\n",
            "684/684 [==============================] - 4s 6ms/step - loss: 0.0697 - accuracy: 0.9702 - val_loss: 2.1224 - val_accuracy: 0.6048\n",
            "Epoch 135/150\n",
            "684/684 [==============================] - 4s 6ms/step - loss: 0.0696 - accuracy: 0.9700 - val_loss: 2.2696 - val_accuracy: 0.6017\n",
            "Epoch 136/150\n",
            "684/684 [==============================] - 4s 6ms/step - loss: 0.0694 - accuracy: 0.9700 - val_loss: 2.3256 - val_accuracy: 0.6027\n",
            "Epoch 137/150\n",
            "684/684 [==============================] - 4s 6ms/step - loss: 0.0694 - accuracy: 0.9707 - val_loss: 2.2975 - val_accuracy: 0.5978\n",
            "Epoch 138/150\n",
            "684/684 [==============================] - 4s 6ms/step - loss: 0.0708 - accuracy: 0.9701 - val_loss: 2.4252 - val_accuracy: 0.6077\n",
            "Epoch 139/150\n",
            "684/684 [==============================] - 4s 6ms/step - loss: 0.0693 - accuracy: 0.9705 - val_loss: 2.6343 - val_accuracy: 0.6072\n",
            "Epoch 140/150\n",
            "684/684 [==============================] - 4s 6ms/step - loss: 0.0695 - accuracy: 0.9707 - val_loss: 2.4879 - val_accuracy: 0.6046\n",
            "Epoch 141/150\n",
            "684/684 [==============================] - 4s 6ms/step - loss: 0.0694 - accuracy: 0.9703 - val_loss: 2.4892 - val_accuracy: 0.6118\n",
            "Epoch 142/150\n",
            "684/684 [==============================] - 4s 6ms/step - loss: 0.0693 - accuracy: 0.9707 - val_loss: 2.5973 - val_accuracy: 0.6043\n",
            "Epoch 143/150\n",
            "684/684 [==============================] - 4s 6ms/step - loss: 0.0686 - accuracy: 0.9705 - val_loss: 2.7769 - val_accuracy: 0.6020\n",
            "Epoch 144/150\n",
            "684/684 [==============================] - 4s 6ms/step - loss: 0.0702 - accuracy: 0.9700 - val_loss: 2.1997 - val_accuracy: 0.6118\n",
            "Epoch 145/150\n",
            "684/684 [==============================] - 4s 6ms/step - loss: 0.0690 - accuracy: 0.9715 - val_loss: 2.2486 - val_accuracy: 0.6095\n",
            "Epoch 146/150\n",
            "684/684 [==============================] - 4s 6ms/step - loss: 0.0696 - accuracy: 0.9705 - val_loss: 2.0514 - val_accuracy: 0.6027\n",
            "Epoch 147/150\n",
            "684/684 [==============================] - 4s 6ms/step - loss: 0.0694 - accuracy: 0.9707 - val_loss: 2.0025 - val_accuracy: 0.6240\n",
            "Epoch 148/150\n",
            "684/684 [==============================] - 4s 6ms/step - loss: 0.0694 - accuracy: 0.9710 - val_loss: 1.6357 - val_accuracy: 0.6458\n",
            "Epoch 149/150\n",
            "684/684 [==============================] - 4s 6ms/step - loss: 0.0696 - accuracy: 0.9706 - val_loss: 2.2521 - val_accuracy: 0.6056\n",
            "Epoch 150/150\n",
            "684/684 [==============================] - 4s 6ms/step - loss: 0.0690 - accuracy: 0.9707 - val_loss: 2.5657 - val_accuracy: 0.5958\n"
          ]
        }
      ],
      "source": [
        "# Train the model\n",
        "fit_model = nn.fit(X_train_scaled,Y_train,epochs=150, validation_split=0.15)"
      ]
    },
    {
      "cell_type": "code",
      "execution_count": 30,
      "metadata": {
        "id": "8ZHoZ_bX_n0t",
        "outputId": "de475a06-8336-4dfb-89b2-5ebc6bb1bf49",
        "colab": {
          "base_uri": "https://localhost:8080/"
        }
      },
      "outputs": [
        {
          "output_type": "stream",
          "name": "stdout",
          "text": [
            "268/268 - 1s - loss: 1.0426 - accuracy: 0.6223 - 550ms/epoch - 2ms/step\n",
            "Loss: 1.042646884918213, Accuracy: 0.6222740411758423\n"
          ]
        }
      ],
      "source": [
        "# Evaluate the model using the test data\n",
        "model_loss, model_accuracy = nn.evaluate(X_test_scaled,Y_test,verbose=2)\n",
        "print(f\"Loss: {model_loss}, Accuracy: {model_accuracy}\")"
      ]
    },
    {
      "cell_type": "code",
      "execution_count": 31,
      "metadata": {
        "id": "mC8nqhmm_n0t"
      },
      "outputs": [],
      "source": [
        "# Export our model to HDF5 file\n",
        "nn.save('../AlphabetSoupCharity_Optimization3.h5')"
      ]
    }
  ],
  "metadata": {
    "kernelspec": {
      "display_name": "Python 3 (ipykernel)",
      "language": "python",
      "name": "python3"
    },
    "language_info": {
      "codemirror_mode": {
        "name": "ipython",
        "version": 3
      },
      "file_extension": ".py",
      "mimetype": "text/x-python",
      "name": "python",
      "nbconvert_exporter": "python",
      "pygments_lexer": "ipython3",
      "version": "3.9.13"
    },
    "colab": {
      "provenance": [],
      "machine_shape": "hm"
    },
    "gpuClass": "standard"
  },
  "nbformat": 4,
  "nbformat_minor": 0
}