{
  "cells": [
    {
      "cell_type": "markdown",
      "metadata": {
        "id": "CObb2-BX_n0k"
      },
      "source": [
        "## Preprocessing"
      ]
    },
    {
      "cell_type": "code",
      "execution_count": 2,
      "metadata": {
        "id": "Fyr1rpwg_n0m"
      },
      "outputs": [],
      "source": [
        "# Import our dependencies\n",
        "from sklearn.model_selection import train_test_split\n",
        "from sklearn.preprocessing import StandardScaler\n",
        "import pandas as pd\n",
        "import tensorflow as tf\n",
        "\n",
        "#  Import and read the charity_data.csv.\n",
        "import pandas as pd \n",
        "application_df = pd.read_csv(\"charity_data.csv\")"
      ]
    },
    {
      "cell_type": "code",
      "execution_count": 3,
      "metadata": {
        "id": "-M_xi2vS_n0o"
      },
      "outputs": [],
      "source": [
        "# Drop the non-beneficial ID columns, 'EIN' and 'NAME'.\n",
        "updated_applications = application_df.drop(columns=['NAME' , 'EIN'], axis=1)"
      ]
    },
    {
      "cell_type": "code",
      "source": [
        "# Look at APPLICATION_TYPE value counts for binning\n",
        "application_counts = updated_applications['APPLICATION_TYPE'].value_counts()\n",
        "application_counts"
      ],
      "metadata": {
        "colab": {
          "base_uri": "https://localhost:8080/"
        },
        "id": "Zna59l2bNWKf",
        "outputId": "1e8ffc3d-778a-44eb-ca85-afa724fdf264"
      },
      "execution_count": 4,
      "outputs": [
        {
          "output_type": "execute_result",
          "data": {
            "text/plain": [
              "T3     16698\n",
              "T6       738\n",
              "T4       706\n",
              "T19      504\n",
              "T8       446\n",
              "T7       417\n",
              "T10      409\n",
              "T5       357\n",
              "T9        99\n",
              "T13       38\n",
              "T12       11\n",
              "T2         8\n",
              "T29        2\n",
              "T25        1\n",
              "Name: APPLICATION_TYPE, dtype: int64"
            ]
          },
          "metadata": {},
          "execution_count": 4
        }
      ]
    },
    {
      "cell_type": "code",
      "execution_count": 5,
      "metadata": {
        "id": "tgBSoFTC_n0o",
        "outputId": "08d6969c-0ac1-4b71-98a1-43ac51656e65",
        "colab": {
          "base_uri": "https://localhost:8080/"
        }
      },
      "outputs": [
        {
          "output_type": "execute_result",
          "data": {
            "text/plain": [
              "T3     16698\n",
              "T6       738\n",
              "T4       706\n",
              "T19      504\n",
              "T8       446\n",
              "T7       417\n",
              "T10      409\n",
              "T5       357\n",
              "T9        99\n",
              "T13       38\n",
              "T12       11\n",
              "Name: APPLICATION_TYPE, dtype: int64"
            ]
          },
          "metadata": {},
          "execution_count": 5
        }
      ],
      "source": [
        "# Look at APPLICATION_TYPE value counts for binning\n",
        "reduced_applications = updated_applications['APPLICATION_TYPE'].value_counts()[updated_applications['APPLICATION_TYPE'].value_counts()>10]\n",
        "reduced_applications"
      ]
    },
    {
      "cell_type": "code",
      "execution_count": 6,
      "metadata": {
        "id": "C-m9lBYh_n0p",
        "outputId": "a82cad73-241e-4eb7-b5fa-5517b2f626bd",
        "colab": {
          "base_uri": "https://localhost:8080/"
        }
      },
      "outputs": [
        {
          "output_type": "execute_result",
          "data": {
            "text/plain": [
              "T3       16698\n",
              "T6         738\n",
              "T4         706\n",
              "T19        504\n",
              "T8         446\n",
              "T7         417\n",
              "T10        409\n",
              "T5         357\n",
              "Other      159\n",
              "Name: APPLICATION_TYPE, dtype: int64"
            ]
          },
          "metadata": {},
          "execution_count": 6
        }
      ],
      "source": [
        "# Choose a cutoff value and create a list of application types to be replaced\n",
        "# use the variable name `application_types_to_replace`\n",
        "application_types_to_replace = updated_applications['APPLICATION_TYPE'].value_counts(ascending=False).index[8:].tolist()\n",
        "\n",
        "# Replace in dataframe\n",
        "for app in application_types_to_replace:\n",
        "    application_df['APPLICATION_TYPE'] = application_df['APPLICATION_TYPE'].replace(app,\"Other\")\n",
        "\n",
        "# Check to make sure binning was successful\n",
        "application_df['APPLICATION_TYPE'].value_counts()"
      ]
    },
    {
      "cell_type": "code",
      "execution_count": 7,
      "metadata": {
        "id": "k03Jyp5R_n0p",
        "outputId": "16af0628-c733-4f84-ec8a-3a3b553031ef",
        "colab": {
          "base_uri": "https://localhost:8080/"
        }
      },
      "outputs": [
        {
          "output_type": "execute_result",
          "data": {
            "text/plain": [
              "C1000    10094\n",
              "C2000     3394\n",
              "C1200     3212\n",
              "C2100     1531\n",
              "C3000      715\n",
              "C7000      489\n",
              "C1700      215\n",
              "C4000      142\n",
              "C1270       80\n",
              "C2700       78\n",
              "C5000       70\n",
              "C7100       54\n",
              "C2800       41\n",
              "C1280       39\n",
              "C1230       28\n",
              "C1240       26\n",
              "C2300       23\n",
              "C1400       21\n",
              "C7200       18\n",
              "C8000       15\n",
              "C1300       15\n",
              "C7120       14\n",
              "C8200        9\n",
              "C1278        9\n",
              "C1235        8\n",
              "C1237        8\n",
              "C1250        8\n",
              "C1500        8\n",
              "C1800        7\n",
              "C7210        6\n",
              "C1238        6\n",
              "C6000        6\n",
              "C1257        5\n",
              "C1720        4\n",
              "C1600        4\n",
              "C4100        3\n",
              "C1260        3\n",
              "C2710        2\n",
              "C1246        2\n",
              "C1256        2\n",
              "C1267        1\n",
              "C3700        1\n",
              "C1580        1\n",
              "C1236        1\n",
              "C2570        1\n",
              "C1570        1\n",
              "C1234        1\n",
              "C2500        1\n",
              "C4120        1\n",
              "C1283        1\n",
              "C2380        1\n",
              "C1732        1\n",
              "C1728        1\n",
              "C2170        1\n",
              "C8210        1\n",
              "C2400        1\n",
              "C4500        1\n",
              "C1245        1\n",
              "C2561        1\n",
              "C2190        1\n",
              "Name: CLASSIFICATION, dtype: int64"
            ]
          },
          "metadata": {},
          "execution_count": 7
        }
      ],
      "source": [
        "# Look at CLASSIFICATION value counts for binning\n",
        "classification_count = application_df['CLASSIFICATION'].value_counts()\n",
        "classification_count"
      ]
    },
    {
      "cell_type": "code",
      "execution_count": 8,
      "metadata": {
        "id": "LiI0QGHr_n0q",
        "outputId": "ebb1f218-8761-4a00-ba19-15f0318de67e",
        "colab": {
          "base_uri": "https://localhost:8080/"
        }
      },
      "outputs": [
        {
          "output_type": "execute_result",
          "data": {
            "text/plain": [
              "C1000    10094\n",
              "C2000     3394\n",
              "C1200     3212\n",
              "C2100     1531\n",
              "C3000      715\n",
              "C7000      489\n",
              "C1700      215\n",
              "C4000      142\n",
              "C1270       80\n",
              "C2700       78\n",
              "C5000       70\n",
              "C7100       54\n",
              "C2800       41\n",
              "C1280       39\n",
              "C1230       28\n",
              "C1240       26\n",
              "C2300       23\n",
              "C1400       21\n",
              "C7200       18\n",
              "C8000       15\n",
              "C1300       15\n",
              "C7120       14\n",
              "C8200        9\n",
              "C1278        9\n",
              "C1235        8\n",
              "C1237        8\n",
              "C1250        8\n",
              "C1500        8\n",
              "C1800        7\n",
              "C7210        6\n",
              "C1238        6\n",
              "C6000        6\n",
              "C1257        5\n",
              "C1720        4\n",
              "C1600        4\n",
              "C4100        3\n",
              "C1260        3\n",
              "C2710        2\n",
              "C1246        2\n",
              "C1256        2\n",
              "C1267        1\n",
              "C3700        1\n",
              "C1580        1\n",
              "C1236        1\n",
              "C2570        1\n",
              "C1570        1\n",
              "C1234        1\n",
              "C2500        1\n",
              "C4120        1\n",
              "C1283        1\n",
              "C2380        1\n",
              "C1732        1\n",
              "C1728        1\n",
              "C2170        1\n",
              "C8210        1\n",
              "C2400        1\n",
              "C4500        1\n",
              "C1245        1\n",
              "C2561        1\n",
              "C2190        1\n",
              "Name: CLASSIFICATION, dtype: int64"
            ]
          },
          "metadata": {},
          "execution_count": 8
        }
      ],
      "source": [
        "# You may find it helpful to look at CLASSIFICATION value counts >1\n",
        "classification_count[classification_count>1]\n",
        "classification_count"
      ]
    },
    {
      "cell_type": "code",
      "execution_count": 9,
      "metadata": {
        "id": "7Nek31xg_n0q",
        "outputId": "e4e4908f-c1d6-4353-ded8-e018be1f308f",
        "colab": {
          "base_uri": "https://localhost:8080/"
        }
      },
      "outputs": [
        {
          "output_type": "execute_result",
          "data": {
            "text/plain": [
              "C1000    10094\n",
              "C2000     3394\n",
              "C1200     3212\n",
              "Other     2203\n",
              "C2100     1531\n",
              "Name: CLASSIFICATION, dtype: int64"
            ]
          },
          "metadata": {},
          "execution_count": 9
        }
      ],
      "source": [
        "# Choose a cutoff value and create a list of classifications to be replaced\n",
        "# use the variable name `classifications_to_replace`\n",
        "classifications_to_replace = application_df['CLASSIFICATION'].value_counts(ascending=False).index[4:].tolist()\n",
        "\n",
        "# Replace in dataframe\n",
        "for cls in classifications_to_replace:\n",
        "    application_df['CLASSIFICATION'] = application_df['CLASSIFICATION'].replace(cls,\"Other\")\n",
        "    \n",
        "# Check to make sure binning was successful\n",
        "application_df['CLASSIFICATION'].value_counts()"
      ]
    },
    {
      "cell_type": "code",
      "execution_count": 10,
      "metadata": {
        "id": "LiU80kZF_n0r"
      },
      "outputs": [],
      "source": [
        "# Convert categorical data to numeric with `pd.get_dummies`\n",
        "numeric_data = pd.get_dummies(application_df, dtype=float)"
      ]
    },
    {
      "cell_type": "code",
      "execution_count": 11,
      "metadata": {
        "id": "SvsUeGrh_n0r"
      },
      "outputs": [],
      "source": [
        "# Split our preprocessed data into our features and target arrays\n",
        "x = numeric_data.drop(columns = ['IS_SUCCESSFUL']).values\n",
        "y = numeric_data['IS_SUCCESSFUL'].values\n",
        "\n",
        "# Split the preprocessed data into a training and testing dataset\n",
        "X_train, X_test, Y_train, Y_test = train_test_split(x,y, random_state=42)"
      ]
    },
    {
      "cell_type": "code",
      "execution_count": 12,
      "metadata": {
        "id": "mDH8hUa5_n0r"
      },
      "outputs": [],
      "source": [
        "# Create a StandardScaler instances\n",
        "scaler = StandardScaler()\n",
        "\n",
        "# Fit the StandardScaler\n",
        "X_scaler = scaler.fit(X_train)\n",
        "\n",
        "# Scale the data\n",
        "X_train_scaled = X_scaler.transform(X_train)\n",
        "X_test_scaled = X_scaler.transform(X_test)"
      ]
    },
    {
      "cell_type": "markdown",
      "metadata": {
        "id": "28yw5tJ2_n0s"
      },
      "source": [
        "## Compile, Train and Evaluate the Model"
      ]
    },
    {
      "cell_type": "code",
      "execution_count": 20,
      "metadata": {
        "id": "GRZxYHac_n0s",
        "outputId": "158d867b-a7f0-4f49-a561-c8cebef9c96a",
        "colab": {
          "base_uri": "https://localhost:8080/"
        }
      },
      "outputs": [
        {
          "output_type": "stream",
          "name": "stdout",
          "text": [
            "Input Features = 12349\n",
            "Hidden Nodes - Layer 1 = 8\n",
            "Hidden Nodes - Layer 2 = 5\n",
            "Model: \"sequential_1\"\n",
            "_________________________________________________________________\n",
            " Layer (type)                Output Shape              Param #   \n",
            "=================================================================\n",
            " dense_3 (Dense)             (None, 8)                 98800     \n",
            "                                                                 \n",
            " dense_4 (Dense)             (None, 5)                 45        \n",
            "                                                                 \n",
            " dense_5 (Dense)             (None, 1)                 6         \n",
            "                                                                 \n",
            "=================================================================\n",
            "Total params: 98,851\n",
            "Trainable params: 98,851\n",
            "Non-trainable params: 0\n",
            "_________________________________________________________________\n"
          ]
        }
      ],
      "source": [
        "# Define the model - deep neural net, i.e., the number of input features and hidden nodes for each layer.\n",
        "\n",
        "number_input_features = len(X_train[0])\n",
        "print(\"Input Features =\", number_input_features)\n",
        "hidden_nodes_layer1 =  8\n",
        "print(\"Hidden Nodes - Layer 1 =\", hidden_nodes_layer1)\n",
        "hidden_nodes_layer2 = 5\n",
        "print(\"Hidden Nodes - Layer 2 =\", hidden_nodes_layer2)\n",
        "\n",
        "#Keras Sequential Model\n",
        "nn = tf.keras.models.Sequential()\n",
        "\n",
        "# First hidden layer\n",
        "nn.add(tf.keras.layers.Dense(units=hidden_nodes_layer1, input_dim=number_input_features, activation=\"relu\"))\n",
        "\n",
        "# Second hidden layer\n",
        "nn.add(tf.keras.layers.Dense(units=hidden_nodes_layer2, activation=\"relu\"))\n",
        "\n",
        "# Output layer\n",
        "nn.add(tf.keras.layers.Dense(units=1, activation=\"sigmoid\"))\n",
        "\n",
        "# Check the structure of the model\n",
        "nn.summary()"
      ]
    },
    {
      "cell_type": "code",
      "execution_count": 14,
      "metadata": {
        "id": "2PUSznm0_n0s"
      },
      "outputs": [],
      "source": [
        "# Compile the model\n",
        "nn.compile(loss=\"binary_crossentropy\", optimizer=\"adam\", metrics=[\"accuracy\"])"
      ]
    },
    {
      "cell_type": "code",
      "execution_count": 15,
      "metadata": {
        "id": "hRNNlVX9_n0t",
        "colab": {
          "base_uri": "https://localhost:8080/"
        },
        "outputId": "b1c066ad-28da-42a8-d99b-293c83a0c3e0"
      },
      "outputs": [
        {
          "output_type": "stream",
          "name": "stdout",
          "text": [
            "Epoch 1/100\n",
            "479/479 [==============================] - 3s 5ms/step - loss: nan - accuracy: 0.4938\n",
            "Epoch 2/100\n",
            "479/479 [==============================] - 2s 4ms/step - loss: nan - accuracy: 0.4439\n",
            "Epoch 3/100\n",
            "479/479 [==============================] - 2s 5ms/step - loss: nan - accuracy: 0.4439\n",
            "Epoch 4/100\n",
            "479/479 [==============================] - 2s 4ms/step - loss: nan - accuracy: 0.4439\n",
            "Epoch 5/100\n",
            "479/479 [==============================] - 2s 4ms/step - loss: nan - accuracy: 0.4439\n",
            "Epoch 6/100\n",
            "479/479 [==============================] - 2s 4ms/step - loss: nan - accuracy: 0.4439\n",
            "Epoch 7/100\n",
            "479/479 [==============================] - 2s 5ms/step - loss: nan - accuracy: 0.4439\n",
            "Epoch 8/100\n",
            "479/479 [==============================] - 2s 5ms/step - loss: nan - accuracy: 0.4439\n",
            "Epoch 9/100\n",
            "479/479 [==============================] - 2s 5ms/step - loss: nan - accuracy: 0.4439\n",
            "Epoch 10/100\n",
            "479/479 [==============================] - 2s 5ms/step - loss: nan - accuracy: 0.4439\n",
            "Epoch 11/100\n",
            "479/479 [==============================] - 2s 5ms/step - loss: nan - accuracy: 0.4439\n",
            "Epoch 12/100\n",
            "479/479 [==============================] - 2s 4ms/step - loss: nan - accuracy: 0.4439\n",
            "Epoch 13/100\n",
            "479/479 [==============================] - 2s 5ms/step - loss: nan - accuracy: 0.4439\n",
            "Epoch 14/100\n",
            "479/479 [==============================] - 2s 5ms/step - loss: nan - accuracy: 0.4439\n",
            "Epoch 15/100\n",
            "479/479 [==============================] - 2s 5ms/step - loss: nan - accuracy: 0.4439\n",
            "Epoch 16/100\n",
            "479/479 [==============================] - 2s 5ms/step - loss: nan - accuracy: 0.4439\n",
            "Epoch 17/100\n",
            "479/479 [==============================] - 2s 5ms/step - loss: nan - accuracy: 0.4439\n",
            "Epoch 18/100\n",
            "479/479 [==============================] - 2s 5ms/step - loss: nan - accuracy: 0.4439\n",
            "Epoch 19/100\n",
            "479/479 [==============================] - 2s 5ms/step - loss: nan - accuracy: 0.4439\n",
            "Epoch 20/100\n",
            "479/479 [==============================] - 2s 5ms/step - loss: nan - accuracy: 0.4439\n",
            "Epoch 21/100\n",
            "479/479 [==============================] - 2s 5ms/step - loss: nan - accuracy: 0.4439\n",
            "Epoch 22/100\n",
            "479/479 [==============================] - 2s 5ms/step - loss: nan - accuracy: 0.4439\n",
            "Epoch 23/100\n",
            "479/479 [==============================] - 2s 5ms/step - loss: nan - accuracy: 0.4439\n",
            "Epoch 24/100\n",
            "479/479 [==============================] - 2s 5ms/step - loss: nan - accuracy: 0.4439\n",
            "Epoch 25/100\n",
            "479/479 [==============================] - 2s 5ms/step - loss: nan - accuracy: 0.4439\n",
            "Epoch 26/100\n",
            "479/479 [==============================] - 2s 5ms/step - loss: nan - accuracy: 0.4439\n",
            "Epoch 27/100\n",
            "479/479 [==============================] - 2s 5ms/step - loss: nan - accuracy: 0.4439\n",
            "Epoch 28/100\n",
            "479/479 [==============================] - 2s 4ms/step - loss: nan - accuracy: 0.4439\n",
            "Epoch 29/100\n",
            "479/479 [==============================] - 2s 4ms/step - loss: nan - accuracy: 0.4439\n",
            "Epoch 30/100\n",
            "479/479 [==============================] - 2s 5ms/step - loss: nan - accuracy: 0.4439\n",
            "Epoch 31/100\n",
            "479/479 [==============================] - 2s 5ms/step - loss: nan - accuracy: 0.4439\n",
            "Epoch 32/100\n",
            "479/479 [==============================] - 2s 4ms/step - loss: nan - accuracy: 0.4439\n",
            "Epoch 33/100\n",
            "479/479 [==============================] - 2s 5ms/step - loss: nan - accuracy: 0.4439\n",
            "Epoch 34/100\n",
            "479/479 [==============================] - 2s 5ms/step - loss: nan - accuracy: 0.4439\n",
            "Epoch 35/100\n",
            "479/479 [==============================] - 2s 5ms/step - loss: nan - accuracy: 0.4439\n",
            "Epoch 36/100\n",
            "479/479 [==============================] - 2s 5ms/step - loss: nan - accuracy: 0.4439\n",
            "Epoch 37/100\n",
            "479/479 [==============================] - 2s 4ms/step - loss: nan - accuracy: 0.4439\n",
            "Epoch 38/100\n",
            "479/479 [==============================] - 2s 4ms/step - loss: nan - accuracy: 0.4439\n",
            "Epoch 39/100\n",
            "479/479 [==============================] - 2s 4ms/step - loss: nan - accuracy: 0.4439\n",
            "Epoch 40/100\n",
            "479/479 [==============================] - 2s 5ms/step - loss: nan - accuracy: 0.4439\n",
            "Epoch 41/100\n",
            "479/479 [==============================] - 2s 4ms/step - loss: nan - accuracy: 0.4439\n",
            "Epoch 42/100\n",
            "479/479 [==============================] - 2s 4ms/step - loss: nan - accuracy: 0.4439\n",
            "Epoch 43/100\n",
            "479/479 [==============================] - 2s 5ms/step - loss: nan - accuracy: 0.4439\n",
            "Epoch 44/100\n",
            "479/479 [==============================] - 2s 4ms/step - loss: nan - accuracy: 0.4439\n",
            "Epoch 45/100\n",
            "479/479 [==============================] - 2s 4ms/step - loss: nan - accuracy: 0.4439\n",
            "Epoch 46/100\n",
            "479/479 [==============================] - 2s 4ms/step - loss: nan - accuracy: 0.4439\n",
            "Epoch 47/100\n",
            "479/479 [==============================] - 2s 5ms/step - loss: nan - accuracy: 0.4439\n",
            "Epoch 48/100\n",
            "479/479 [==============================] - 2s 5ms/step - loss: nan - accuracy: 0.4439\n",
            "Epoch 49/100\n",
            "479/479 [==============================] - 2s 4ms/step - loss: nan - accuracy: 0.4439\n",
            "Epoch 50/100\n",
            "479/479 [==============================] - 2s 4ms/step - loss: nan - accuracy: 0.4439\n",
            "Epoch 51/100\n",
            "479/479 [==============================] - 2s 5ms/step - loss: nan - accuracy: 0.4439\n",
            "Epoch 52/100\n",
            "479/479 [==============================] - 2s 5ms/step - loss: nan - accuracy: 0.4439\n",
            "Epoch 53/100\n",
            "479/479 [==============================] - 2s 5ms/step - loss: nan - accuracy: 0.4439\n",
            "Epoch 54/100\n",
            "479/479 [==============================] - 2s 4ms/step - loss: nan - accuracy: 0.4439\n",
            "Epoch 55/100\n",
            "479/479 [==============================] - 2s 5ms/step - loss: nan - accuracy: 0.4439\n",
            "Epoch 56/100\n",
            "479/479 [==============================] - 2s 5ms/step - loss: nan - accuracy: 0.4439\n",
            "Epoch 57/100\n",
            "479/479 [==============================] - 2s 5ms/step - loss: nan - accuracy: 0.4439\n",
            "Epoch 58/100\n",
            "479/479 [==============================] - 2s 5ms/step - loss: nan - accuracy: 0.4439\n",
            "Epoch 59/100\n",
            "479/479 [==============================] - 2s 5ms/step - loss: nan - accuracy: 0.4439\n",
            "Epoch 60/100\n",
            "479/479 [==============================] - 2s 5ms/step - loss: nan - accuracy: 0.4439\n",
            "Epoch 61/100\n",
            "479/479 [==============================] - 2s 5ms/step - loss: nan - accuracy: 0.4439\n",
            "Epoch 62/100\n",
            "479/479 [==============================] - 2s 5ms/step - loss: nan - accuracy: 0.4439\n",
            "Epoch 63/100\n",
            "479/479 [==============================] - 2s 5ms/step - loss: nan - accuracy: 0.4439\n",
            "Epoch 64/100\n",
            "479/479 [==============================] - 2s 5ms/step - loss: nan - accuracy: 0.4439\n",
            "Epoch 65/100\n",
            "479/479 [==============================] - 2s 5ms/step - loss: nan - accuracy: 0.4439\n",
            "Epoch 66/100\n",
            "479/479 [==============================] - 2s 4ms/step - loss: nan - accuracy: 0.4439\n",
            "Epoch 67/100\n",
            "479/479 [==============================] - 2s 5ms/step - loss: nan - accuracy: 0.4439\n",
            "Epoch 68/100\n",
            "479/479 [==============================] - 2s 5ms/step - loss: nan - accuracy: 0.4439\n",
            "Epoch 69/100\n",
            "479/479 [==============================] - 2s 5ms/step - loss: nan - accuracy: 0.4439\n",
            "Epoch 70/100\n",
            "479/479 [==============================] - 2s 5ms/step - loss: nan - accuracy: 0.4439\n",
            "Epoch 71/100\n",
            "479/479 [==============================] - 2s 4ms/step - loss: nan - accuracy: 0.4439\n",
            "Epoch 72/100\n",
            "479/479 [==============================] - 2s 4ms/step - loss: nan - accuracy: 0.4439\n",
            "Epoch 73/100\n",
            "479/479 [==============================] - 2s 5ms/step - loss: nan - accuracy: 0.4439\n",
            "Epoch 74/100\n",
            "479/479 [==============================] - 2s 5ms/step - loss: nan - accuracy: 0.4439\n",
            "Epoch 75/100\n",
            "479/479 [==============================] - 2s 5ms/step - loss: nan - accuracy: 0.4439\n",
            "Epoch 76/100\n",
            "479/479 [==============================] - 2s 4ms/step - loss: nan - accuracy: 0.4439\n",
            "Epoch 77/100\n",
            "479/479 [==============================] - 2s 4ms/step - loss: nan - accuracy: 0.4439\n",
            "Epoch 78/100\n",
            "479/479 [==============================] - 2s 5ms/step - loss: nan - accuracy: 0.4439\n",
            "Epoch 79/100\n",
            "479/479 [==============================] - 2s 5ms/step - loss: nan - accuracy: 0.4439\n",
            "Epoch 80/100\n",
            "479/479 [==============================] - 2s 5ms/step - loss: nan - accuracy: 0.4439\n",
            "Epoch 81/100\n",
            "479/479 [==============================] - 2s 4ms/step - loss: nan - accuracy: 0.4439\n",
            "Epoch 82/100\n",
            "479/479 [==============================] - 2s 4ms/step - loss: nan - accuracy: 0.4439\n",
            "Epoch 83/100\n",
            "479/479 [==============================] - 2s 4ms/step - loss: nan - accuracy: 0.4439\n",
            "Epoch 84/100\n",
            "479/479 [==============================] - 2s 4ms/step - loss: nan - accuracy: 0.4439\n",
            "Epoch 85/100\n",
            "479/479 [==============================] - 2s 5ms/step - loss: nan - accuracy: 0.4439\n",
            "Epoch 86/100\n",
            "479/479 [==============================] - 2s 4ms/step - loss: nan - accuracy: 0.4439\n",
            "Epoch 87/100\n",
            "479/479 [==============================] - 2s 4ms/step - loss: nan - accuracy: 0.4439\n",
            "Epoch 88/100\n",
            "479/479 [==============================] - 2s 5ms/step - loss: nan - accuracy: 0.4439\n",
            "Epoch 89/100\n",
            "479/479 [==============================] - 2s 4ms/step - loss: nan - accuracy: 0.4439\n",
            "Epoch 90/100\n",
            "479/479 [==============================] - 2s 5ms/step - loss: nan - accuracy: 0.4439\n",
            "Epoch 91/100\n",
            "479/479 [==============================] - 2s 5ms/step - loss: nan - accuracy: 0.4439\n",
            "Epoch 92/100\n",
            "479/479 [==============================] - 2s 5ms/step - loss: nan - accuracy: 0.4439\n",
            "Epoch 93/100\n",
            "479/479 [==============================] - 2s 4ms/step - loss: nan - accuracy: 0.4439\n",
            "Epoch 94/100\n",
            "479/479 [==============================] - 2s 4ms/step - loss: nan - accuracy: 0.4439\n",
            "Epoch 95/100\n",
            "479/479 [==============================] - 2s 5ms/step - loss: nan - accuracy: 0.4439\n",
            "Epoch 96/100\n",
            "479/479 [==============================] - 2s 5ms/step - loss: nan - accuracy: 0.4439\n",
            "Epoch 97/100\n",
            "479/479 [==============================] - 2s 5ms/step - loss: nan - accuracy: 0.4439\n",
            "Epoch 98/100\n",
            "479/479 [==============================] - 2s 5ms/step - loss: nan - accuracy: 0.4439\n",
            "Epoch 99/100\n",
            "479/479 [==============================] - 2s 4ms/step - loss: nan - accuracy: 0.4439\n",
            "Epoch 100/100\n",
            "479/479 [==============================] - 2s 4ms/step - loss: nan - accuracy: 0.4439\n"
          ]
        }
      ],
      "source": [
        "# Train the model\n",
        "fit_model = nn.fit(X_train_scaled,Y_train,epochs=100)"
      ]
    },
    {
      "cell_type": "code",
      "execution_count": 17,
      "metadata": {
        "id": "8ZHoZ_bX_n0t",
        "outputId": "f78c5738-dd61-404d-a6b4-c8bc3c26f8bc",
        "colab": {
          "base_uri": "https://localhost:8080/"
        }
      },
      "outputs": [
        {
          "output_type": "stream",
          "name": "stdout",
          "text": [
            "160/160 - 1s - loss: nan - accuracy: 0.4588 - 548ms/epoch - 3ms/step\n",
            "Loss: nan, Accuracy: 0.45879819989204407\n"
          ]
        }
      ],
      "source": [
        "# Evaluate the model using the test data\n",
        "model_loss, model_accuracy = nn.evaluate(X_test_scaled,Y_test,verbose=2)\n",
        "print(f\"Loss: {model_loss}, Accuracy: {model_accuracy}\")"
      ]
    },
    {
      "cell_type": "code",
      "execution_count": 19,
      "metadata": {
        "id": "mC8nqhmm_n0t"
      },
      "outputs": [],
      "source": [
        "# Export our model to HDF5 file\n",
        "nn.save('../AlphabetSoupCharity.h5')"
      ]
    }
  ],
  "metadata": {
    "kernelspec": {
      "display_name": "Python 3 (ipykernel)",
      "language": "python",
      "name": "python3"
    },
    "language_info": {
      "codemirror_mode": {
        "name": "ipython",
        "version": 3
      },
      "file_extension": ".py",
      "mimetype": "text/x-python",
      "name": "python",
      "nbconvert_exporter": "python",
      "pygments_lexer": "ipython3",
      "version": "3.9.13"
    },
    "colab": {
      "provenance": [],
      "machine_shape": "hm"
    },
    "gpuClass": "standard"
  },
  "nbformat": 4,
  "nbformat_minor": 0
}