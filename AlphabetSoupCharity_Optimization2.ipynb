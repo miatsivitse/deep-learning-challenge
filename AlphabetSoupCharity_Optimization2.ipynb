{
  "cells": [
    {
      "cell_type": "markdown",
      "metadata": {
        "id": "CObb2-BX_n0k"
      },
      "source": [
        "## Preprocessing"
      ]
    },
    {
      "cell_type": "code",
      "execution_count": 1,
      "metadata": {
        "id": "Fyr1rpwg_n0m"
      },
      "outputs": [],
      "source": [
        "# Import our dependencies\n",
        "from sklearn.model_selection import train_test_split\n",
        "from sklearn.preprocessing import StandardScaler\n",
        "import pandas as pd\n",
        "import tensorflow as tf\n",
        "\n",
        "#  Import and read the charity_data.csv.\n",
        "import pandas as pd \n",
        "application_df = pd.read_csv(\"charity_data.csv\")"
      ]
    },
    {
      "cell_type": "code",
      "execution_count": 2,
      "metadata": {
        "id": "-M_xi2vS_n0o"
      },
      "outputs": [],
      "source": [
        "# Drop the non-beneficial ID columns, 'EIN' and 'NAME'.\n",
        "updated_applications = application_df.drop(columns=['NAME' , 'EIN'], axis=1)"
      ]
    },
    {
      "cell_type": "code",
      "source": [
        "# Look at APPLICATION_TYPE value counts for binning\n",
        "application_counts = updated_applications['APPLICATION_TYPE'].value_counts()\n",
        "application_counts"
      ],
      "metadata": {
        "colab": {
          "base_uri": "https://localhost:8080/"
        },
        "id": "Zna59l2bNWKf",
        "outputId": "fb84e89e-aa08-4e5b-8909-00554ba63254"
      },
      "execution_count": 3,
      "outputs": [
        {
          "output_type": "execute_result",
          "data": {
            "text/plain": [
              "T3     27037\n",
              "T4      1542\n",
              "T6      1216\n",
              "T5      1173\n",
              "T19     1065\n",
              "T8       737\n",
              "T7       725\n",
              "T10      528\n",
              "T9       156\n",
              "T13       66\n",
              "T12       27\n",
              "T2        16\n",
              "T25        3\n",
              "T14        3\n",
              "T29        2\n",
              "T15        2\n",
              "T17        1\n",
              "Name: APPLICATION_TYPE, dtype: int64"
            ]
          },
          "metadata": {},
          "execution_count": 3
        }
      ]
    },
    {
      "cell_type": "code",
      "execution_count": 4,
      "metadata": {
        "id": "tgBSoFTC_n0o",
        "outputId": "5a85e122-19be-41fd-f3af-c9cb23146242",
        "colab": {
          "base_uri": "https://localhost:8080/"
        }
      },
      "outputs": [
        {
          "output_type": "execute_result",
          "data": {
            "text/plain": [
              "T3     27037\n",
              "T4      1542\n",
              "T6      1216\n",
              "T5      1173\n",
              "T19     1065\n",
              "T8       737\n",
              "T7       725\n",
              "T10      528\n",
              "T9       156\n",
              "T13       66\n",
              "T12       27\n",
              "T2        16\n",
              "Name: APPLICATION_TYPE, dtype: int64"
            ]
          },
          "metadata": {},
          "execution_count": 4
        }
      ],
      "source": [
        "# Look at APPLICATION_TYPE value counts for binning\n",
        "reduced_applications = updated_applications['APPLICATION_TYPE'].value_counts()[updated_applications['APPLICATION_TYPE'].value_counts()>10]\n",
        "reduced_applications"
      ]
    },
    {
      "cell_type": "code",
      "execution_count": 5,
      "metadata": {
        "id": "C-m9lBYh_n0p",
        "outputId": "1fc33cf3-e428-4e62-9097-3e95a6cb0f4a",
        "colab": {
          "base_uri": "https://localhost:8080/"
        }
      },
      "outputs": [
        {
          "output_type": "execute_result",
          "data": {
            "text/plain": [
              "T3       27037\n",
              "T4        1542\n",
              "T6        1216\n",
              "T5        1173\n",
              "T19       1065\n",
              "T8         737\n",
              "T7         725\n",
              "T10        528\n",
              "Other      276\n",
              "Name: APPLICATION_TYPE, dtype: int64"
            ]
          },
          "metadata": {},
          "execution_count": 5
        }
      ],
      "source": [
        "# Choose a cutoff value and create a list of application types to be replaced\n",
        "# use the variable name `application_types_to_replace`\n",
        "application_types_to_replace = updated_applications['APPLICATION_TYPE'].value_counts(ascending=False).index[8:].tolist()\n",
        "\n",
        "# Replace in dataframe\n",
        "for app in application_types_to_replace:\n",
        "    application_df['APPLICATION_TYPE'] = application_df['APPLICATION_TYPE'].replace(app,\"Other\")\n",
        "\n",
        "# Check to make sure binning was successful\n",
        "application_df['APPLICATION_TYPE'].value_counts()"
      ]
    },
    {
      "cell_type": "code",
      "execution_count": 6,
      "metadata": {
        "id": "k03Jyp5R_n0p",
        "outputId": "b842915f-bcdd-47e7-ea3b-51e187fb9775",
        "colab": {
          "base_uri": "https://localhost:8080/"
        }
      },
      "outputs": [
        {
          "output_type": "execute_result",
          "data": {
            "text/plain": [
              "C1000    17326\n",
              "C2000     6074\n",
              "C1200     4837\n",
              "C3000     1918\n",
              "C2100     1883\n",
              "         ...  \n",
              "C4120        1\n",
              "C8210        1\n",
              "C2561        1\n",
              "C4500        1\n",
              "C2150        1\n",
              "Name: CLASSIFICATION, Length: 71, dtype: int64"
            ]
          },
          "metadata": {},
          "execution_count": 6
        }
      ],
      "source": [
        "# Look at CLASSIFICATION value counts for binning\n",
        "classification_count = application_df['CLASSIFICATION'].value_counts()\n",
        "classification_count"
      ]
    },
    {
      "cell_type": "code",
      "execution_count": 7,
      "metadata": {
        "id": "LiI0QGHr_n0q",
        "outputId": "078e6e78-9c8f-4aa0-94d0-363f48c1597e",
        "colab": {
          "base_uri": "https://localhost:8080/"
        }
      },
      "outputs": [
        {
          "output_type": "execute_result",
          "data": {
            "text/plain": [
              "C1000    17326\n",
              "C2000     6074\n",
              "C1200     4837\n",
              "C3000     1918\n",
              "C2100     1883\n",
              "         ...  \n",
              "C4120        1\n",
              "C8210        1\n",
              "C2561        1\n",
              "C4500        1\n",
              "C2150        1\n",
              "Name: CLASSIFICATION, Length: 71, dtype: int64"
            ]
          },
          "metadata": {},
          "execution_count": 7
        }
      ],
      "source": [
        "# You may find it helpful to look at CLASSIFICATION value counts >1\n",
        "classification_count[classification_count>1]\n",
        "classification_count"
      ]
    },
    {
      "cell_type": "code",
      "execution_count": 8,
      "metadata": {
        "id": "7Nek31xg_n0q",
        "outputId": "e551e993-c955-41b4-ecc4-d78c2075ea93",
        "colab": {
          "base_uri": "https://localhost:8080/"
        }
      },
      "outputs": [
        {
          "output_type": "execute_result",
          "data": {
            "text/plain": [
              "C1000    17326\n",
              "C2000     6074\n",
              "C1200     4837\n",
              "Other     4144\n",
              "C3000     1918\n",
              "Name: CLASSIFICATION, dtype: int64"
            ]
          },
          "metadata": {},
          "execution_count": 8
        }
      ],
      "source": [
        "# Choose a cutoff value and create a list of classifications to be replaced\n",
        "# use the variable name `classifications_to_replace`\n",
        "classifications_to_replace = application_df['CLASSIFICATION'].value_counts(ascending=False).index[4:].tolist()\n",
        "\n",
        "# Replace in dataframe\n",
        "for cls in classifications_to_replace:\n",
        "    application_df['CLASSIFICATION'] = application_df['CLASSIFICATION'].replace(cls,\"Other\")\n",
        "    \n",
        "# Check to make sure binning was successful\n",
        "application_df['CLASSIFICATION'].value_counts()"
      ]
    },
    {
      "cell_type": "code",
      "execution_count": 9,
      "metadata": {
        "id": "LiU80kZF_n0r"
      },
      "outputs": [],
      "source": [
        "# Convert categorical data to numeric with `pd.get_dummies`\n",
        "numeric_data = pd.get_dummies(application_df, dtype=float)"
      ]
    },
    {
      "cell_type": "code",
      "execution_count": 10,
      "metadata": {
        "id": "SvsUeGrh_n0r"
      },
      "outputs": [],
      "source": [
        "# Split our preprocessed data into our features and target arrays\n",
        "x = numeric_data.drop(columns = ['IS_SUCCESSFUL']).values\n",
        "y = numeric_data['IS_SUCCESSFUL'].values\n",
        "\n",
        "# Split the preprocessed data into a training and testing dataset\n",
        "X_train, X_test, Y_train, Y_test = train_test_split(x,y, random_state=42)"
      ]
    },
    {
      "cell_type": "code",
      "execution_count": 11,
      "metadata": {
        "id": "mDH8hUa5_n0r"
      },
      "outputs": [],
      "source": [
        "# Create a StandardScaler instances\n",
        "scaler = StandardScaler()\n",
        "\n",
        "# Fit the StandardScaler\n",
        "X_scaler = scaler.fit(X_train)\n",
        "\n",
        "# Scale the data\n",
        "X_train_scaled = X_scaler.transform(X_train)\n",
        "X_test_scaled = X_scaler.transform(X_test)"
      ]
    },
    {
      "cell_type": "markdown",
      "metadata": {
        "id": "28yw5tJ2_n0s"
      },
      "source": [
        "## Compile, Train and Evaluate the Model"
      ]
    },
    {
      "cell_type": "code",
      "execution_count": 14,
      "metadata": {
        "id": "GRZxYHac_n0s",
        "outputId": "b44f34f4-d0eb-4925-bf6b-b14e2d6de0b3",
        "colab": {
          "base_uri": "https://localhost:8080/"
        }
      },
      "outputs": [
        {
          "output_type": "stream",
          "name": "stdout",
          "text": [
            "Input Features = 19611\n",
            "Hidden Nodes - Layer 1 = 10\n",
            "Hidden Nodes - Layer 2 = 15\n",
            "Hidden Nodes - Layer 3 = 15\n",
            "Hidden Nodes - Layer 4 = 20\n",
            "Model: \"sequential_2\"\n",
            "_________________________________________________________________\n",
            " Layer (type)                Output Shape              Param #   \n",
            "=================================================================\n",
            " dense_10 (Dense)            (None, 10)                196120    \n",
            "                                                                 \n",
            " dense_11 (Dense)            (None, 15)                165       \n",
            "                                                                 \n",
            " dense_12 (Dense)            (None, 15)                240       \n",
            "                                                                 \n",
            " dense_13 (Dense)            (None, 20)                320       \n",
            "                                                                 \n",
            " dense_14 (Dense)            (None, 1)                 21        \n",
            "                                                                 \n",
            "=================================================================\n",
            "Total params: 196,866\n",
            "Trainable params: 196,866\n",
            "Non-trainable params: 0\n",
            "_________________________________________________________________\n"
          ]
        }
      ],
      "source": [
        "# Define the model - deep neural net, i.e., the number of input features and hidden nodes for each layer.\n",
        "\n",
        "number_input_features = len(X_train[0])\n",
        "print(\"Input Features =\", number_input_features)\n",
        "hidden_nodes_layer1 = 10\n",
        "print(\"Hidden Nodes - Layer 1 =\", hidden_nodes_layer1)\n",
        "hidden_nodes_layer2 = 15\n",
        "print(\"Hidden Nodes - Layer 2 =\", hidden_nodes_layer2)\n",
        "hidden_nodes_layer3 = 15\n",
        "print(\"Hidden Nodes - Layer 3 =\", hidden_nodes_layer3)\n",
        "hidden_nodes_layer4 = 20\n",
        "print(\"Hidden Nodes - Layer 4 =\", hidden_nodes_layer4)\n",
        "\n",
        "#Keras Sequential Model\n",
        "nn = tf.keras.models.Sequential()\n",
        "\n",
        "# First hidden layer\n",
        "nn.add(tf.keras.layers.Dense(units=hidden_nodes_layer1, input_dim=number_input_features, activation=\"relu\"))\n",
        "\n",
        "# Second hidden layer\n",
        "nn.add(tf.keras.layers.Dense(units=hidden_nodes_layer2, activation=\"relu\"))\n",
        "\n",
        "# Third hidden layer\n",
        "nn.add(tf.keras.layers.Dense(units=hidden_nodes_layer3, activation=\"relu\"))\n",
        "\n",
        "# Fourth hidden layer\n",
        "nn.add(tf.keras.layers.Dense(units=hidden_nodes_layer4, activation=\"relu\"))\n",
        "\n",
        "# Output layer\n",
        "nn.add(tf.keras.layers.Dense(units=1, activation=\"sigmoid\"))\n",
        "\n",
        "# Check the structure of the model\n",
        "nn.summary()"
      ]
    },
    {
      "cell_type": "code",
      "execution_count": 15,
      "metadata": {
        "id": "2PUSznm0_n0s"
      },
      "outputs": [],
      "source": [
        "# Compile the model\n",
        "nn.compile(loss=\"binary_crossentropy\", optimizer=\"adam\", metrics=[\"accuracy\"])"
      ]
    },
    {
      "cell_type": "code",
      "execution_count": 16,
      "metadata": {
        "id": "hRNNlVX9_n0t",
        "colab": {
          "base_uri": "https://localhost:8080/"
        },
        "outputId": "a9fc977b-08f1-4fa6-bc9c-fd0eecec8d9a"
      },
      "outputs": [
        {
          "output_type": "stream",
          "name": "stdout",
          "text": [
            "Epoch 1/200\n",
            "804/804 [==============================] - 5s 5ms/step - loss: 0.5256 - accuracy: 0.7566\n",
            "Epoch 2/200\n",
            "804/804 [==============================] - 4s 5ms/step - loss: 0.2984 - accuracy: 0.8672\n",
            "Epoch 3/200\n",
            "804/804 [==============================] - 4s 5ms/step - loss: 0.1766 - accuracy: 0.9346\n",
            "Epoch 4/200\n",
            "804/804 [==============================] - 4s 5ms/step - loss: 0.1183 - accuracy: 0.9575\n",
            "Epoch 5/200\n",
            "804/804 [==============================] - 4s 5ms/step - loss: 0.1072 - accuracy: 0.9597\n",
            "Epoch 6/200\n",
            "804/804 [==============================] - 4s 5ms/step - loss: 0.1014 - accuracy: 0.9608\n",
            "Epoch 7/200\n",
            "804/804 [==============================] - 4s 5ms/step - loss: 0.0993 - accuracy: 0.9609\n",
            "Epoch 8/200\n",
            "804/804 [==============================] - 4s 5ms/step - loss: 0.0976 - accuracy: 0.9620\n",
            "Epoch 9/200\n",
            "804/804 [==============================] - 4s 5ms/step - loss: 0.0961 - accuracy: 0.9615\n",
            "Epoch 10/200\n",
            "804/804 [==============================] - 4s 5ms/step - loss: 0.0944 - accuracy: 0.9618\n",
            "Epoch 11/200\n",
            "804/804 [==============================] - 4s 5ms/step - loss: 0.0929 - accuracy: 0.9631\n",
            "Epoch 12/200\n",
            "804/804 [==============================] - 4s 5ms/step - loss: 0.0923 - accuracy: 0.9632\n",
            "Epoch 13/200\n",
            "804/804 [==============================] - 4s 5ms/step - loss: 0.0922 - accuracy: 0.9623\n",
            "Epoch 14/200\n",
            "804/804 [==============================] - 4s 5ms/step - loss: 0.0912 - accuracy: 0.9628\n",
            "Epoch 15/200\n",
            "804/804 [==============================] - 4s 5ms/step - loss: 0.0908 - accuracy: 0.9628\n",
            "Epoch 16/200\n",
            "804/804 [==============================] - 4s 5ms/step - loss: 0.0902 - accuracy: 0.9630\n",
            "Epoch 17/200\n",
            "804/804 [==============================] - 4s 5ms/step - loss: 0.0906 - accuracy: 0.9631\n",
            "Epoch 18/200\n",
            "804/804 [==============================] - 4s 5ms/step - loss: 0.0898 - accuracy: 0.9630\n",
            "Epoch 19/200\n",
            "804/804 [==============================] - 4s 5ms/step - loss: 0.0895 - accuracy: 0.9632\n",
            "Epoch 20/200\n",
            "804/804 [==============================] - 4s 5ms/step - loss: 0.0895 - accuracy: 0.9634\n",
            "Epoch 21/200\n",
            "804/804 [==============================] - 4s 5ms/step - loss: 0.0916 - accuracy: 0.9638\n",
            "Epoch 22/200\n",
            "804/804 [==============================] - 4s 5ms/step - loss: 0.0896 - accuracy: 0.9637\n",
            "Epoch 23/200\n",
            "804/804 [==============================] - 4s 5ms/step - loss: 0.0891 - accuracy: 0.9640\n",
            "Epoch 24/200\n",
            "804/804 [==============================] - 4s 5ms/step - loss: 0.0889 - accuracy: 0.9635\n",
            "Epoch 25/200\n",
            "804/804 [==============================] - 4s 5ms/step - loss: 0.0886 - accuracy: 0.9642\n",
            "Epoch 26/200\n",
            "804/804 [==============================] - 4s 5ms/step - loss: 0.0889 - accuracy: 0.9640\n",
            "Epoch 27/200\n",
            "804/804 [==============================] - 4s 5ms/step - loss: 0.0887 - accuracy: 0.9637\n",
            "Epoch 28/200\n",
            "804/804 [==============================] - 4s 5ms/step - loss: 0.0883 - accuracy: 0.9640\n",
            "Epoch 29/200\n",
            "804/804 [==============================] - 4s 5ms/step - loss: 0.0871 - accuracy: 0.9648\n",
            "Epoch 30/200\n",
            "804/804 [==============================] - 4s 5ms/step - loss: 0.0871 - accuracy: 0.9640\n",
            "Epoch 31/200\n",
            "804/804 [==============================] - 4s 5ms/step - loss: 0.0873 - accuracy: 0.9640\n",
            "Epoch 32/200\n",
            "804/804 [==============================] - 4s 5ms/step - loss: 0.0865 - accuracy: 0.9651\n",
            "Epoch 33/200\n",
            "804/804 [==============================] - 4s 5ms/step - loss: 0.0858 - accuracy: 0.9649\n",
            "Epoch 34/200\n",
            "804/804 [==============================] - 4s 5ms/step - loss: 0.0860 - accuracy: 0.9651\n",
            "Epoch 35/200\n",
            "804/804 [==============================] - 4s 5ms/step - loss: 0.0862 - accuracy: 0.9649\n",
            "Epoch 36/200\n",
            "804/804 [==============================] - 4s 5ms/step - loss: 0.0865 - accuracy: 0.9651\n",
            "Epoch 37/200\n",
            "804/804 [==============================] - 4s 5ms/step - loss: 0.0857 - accuracy: 0.9646\n",
            "Epoch 38/200\n",
            "804/804 [==============================] - 4s 5ms/step - loss: 0.0856 - accuracy: 0.9647\n",
            "Epoch 39/200\n",
            "804/804 [==============================] - 4s 5ms/step - loss: 0.0853 - accuracy: 0.9649\n",
            "Epoch 40/200\n",
            "804/804 [==============================] - 4s 5ms/step - loss: 0.0855 - accuracy: 0.9651\n",
            "Epoch 41/200\n",
            "804/804 [==============================] - 4s 5ms/step - loss: 0.0851 - accuracy: 0.9649\n",
            "Epoch 42/200\n",
            "804/804 [==============================] - 4s 5ms/step - loss: 0.0850 - accuracy: 0.9658\n",
            "Epoch 43/200\n",
            "804/804 [==============================] - 4s 5ms/step - loss: 0.0853 - accuracy: 0.9656\n",
            "Epoch 44/200\n",
            "804/804 [==============================] - 4s 5ms/step - loss: 0.0849 - accuracy: 0.9654\n",
            "Epoch 45/200\n",
            "804/804 [==============================] - 4s 5ms/step - loss: 0.0847 - accuracy: 0.9660\n",
            "Epoch 46/200\n",
            "804/804 [==============================] - 4s 5ms/step - loss: 0.0842 - accuracy: 0.9660\n",
            "Epoch 47/200\n",
            "804/804 [==============================] - 4s 5ms/step - loss: 0.0841 - accuracy: 0.9655\n",
            "Epoch 48/200\n",
            "804/804 [==============================] - 4s 5ms/step - loss: 0.0846 - accuracy: 0.9660\n",
            "Epoch 49/200\n",
            "804/804 [==============================] - 4s 5ms/step - loss: 0.0838 - accuracy: 0.9654\n",
            "Epoch 50/200\n",
            "804/804 [==============================] - 4s 5ms/step - loss: 0.0834 - accuracy: 0.9669\n",
            "Epoch 51/200\n",
            "804/804 [==============================] - 4s 5ms/step - loss: 0.0837 - accuracy: 0.9659\n",
            "Epoch 52/200\n",
            "804/804 [==============================] - 4s 5ms/step - loss: 0.0835 - accuracy: 0.9665\n",
            "Epoch 53/200\n",
            "804/804 [==============================] - 4s 5ms/step - loss: 0.0828 - accuracy: 0.9663\n",
            "Epoch 54/200\n",
            "804/804 [==============================] - 4s 5ms/step - loss: 0.0825 - accuracy: 0.9673\n",
            "Epoch 55/200\n",
            "804/804 [==============================] - 4s 5ms/step - loss: 0.0824 - accuracy: 0.9661\n",
            "Epoch 56/200\n",
            "804/804 [==============================] - 4s 5ms/step - loss: 0.0829 - accuracy: 0.9661\n",
            "Epoch 57/200\n",
            "804/804 [==============================] - 4s 5ms/step - loss: 0.0828 - accuracy: 0.9671\n",
            "Epoch 58/200\n",
            "804/804 [==============================] - 4s 5ms/step - loss: 0.0825 - accuracy: 0.9665\n",
            "Epoch 59/200\n",
            "804/804 [==============================] - 4s 5ms/step - loss: 0.0823 - accuracy: 0.9667\n",
            "Epoch 60/200\n",
            "804/804 [==============================] - 4s 5ms/step - loss: 0.0825 - accuracy: 0.9665\n",
            "Epoch 61/200\n",
            "804/804 [==============================] - 4s 5ms/step - loss: 0.0823 - accuracy: 0.9661\n",
            "Epoch 62/200\n",
            "804/804 [==============================] - 4s 5ms/step - loss: 0.0818 - accuracy: 0.9664\n",
            "Epoch 63/200\n",
            "804/804 [==============================] - 4s 5ms/step - loss: 0.0810 - accuracy: 0.9675\n",
            "Epoch 64/200\n",
            "804/804 [==============================] - 4s 5ms/step - loss: 0.0809 - accuracy: 0.9666\n",
            "Epoch 65/200\n",
            "804/804 [==============================] - 4s 5ms/step - loss: 0.0820 - accuracy: 0.9665\n",
            "Epoch 66/200\n",
            "804/804 [==============================] - 4s 5ms/step - loss: 0.0822 - accuracy: 0.9668\n",
            "Epoch 67/200\n",
            "804/804 [==============================] - 4s 5ms/step - loss: 0.0813 - accuracy: 0.9674\n",
            "Epoch 68/200\n",
            "804/804 [==============================] - 4s 5ms/step - loss: 0.0811 - accuracy: 0.9668\n",
            "Epoch 69/200\n",
            "804/804 [==============================] - 4s 5ms/step - loss: 0.0813 - accuracy: 0.9672\n",
            "Epoch 70/200\n",
            "804/804 [==============================] - 4s 5ms/step - loss: 0.0809 - accuracy: 0.9670\n",
            "Epoch 71/200\n",
            "804/804 [==============================] - 4s 5ms/step - loss: 0.0803 - accuracy: 0.9669\n",
            "Epoch 72/200\n",
            "804/804 [==============================] - 4s 5ms/step - loss: 0.0802 - accuracy: 0.9675\n",
            "Epoch 73/200\n",
            "804/804 [==============================] - 4s 5ms/step - loss: 0.0807 - accuracy: 0.9677\n",
            "Epoch 74/200\n",
            "804/804 [==============================] - 4s 5ms/step - loss: 0.0806 - accuracy: 0.9672\n",
            "Epoch 75/200\n",
            "804/804 [==============================] - 4s 5ms/step - loss: 0.0806 - accuracy: 0.9677\n",
            "Epoch 76/200\n",
            "804/804 [==============================] - 4s 5ms/step - loss: 0.0802 - accuracy: 0.9675\n",
            "Epoch 77/200\n",
            "804/804 [==============================] - 4s 5ms/step - loss: 0.0797 - accuracy: 0.9675\n",
            "Epoch 78/200\n",
            "804/804 [==============================] - 4s 5ms/step - loss: 0.0801 - accuracy: 0.9678\n",
            "Epoch 79/200\n",
            "804/804 [==============================] - 4s 5ms/step - loss: 0.0801 - accuracy: 0.9679\n",
            "Epoch 80/200\n",
            "804/804 [==============================] - 4s 5ms/step - loss: 0.0801 - accuracy: 0.9671\n",
            "Epoch 81/200\n",
            "804/804 [==============================] - 4s 5ms/step - loss: 0.0802 - accuracy: 0.9673\n",
            "Epoch 82/200\n",
            "804/804 [==============================] - 4s 5ms/step - loss: 0.0800 - accuracy: 0.9683\n",
            "Epoch 83/200\n",
            "804/804 [==============================] - 4s 5ms/step - loss: 0.0792 - accuracy: 0.9677\n",
            "Epoch 84/200\n",
            "804/804 [==============================] - 4s 5ms/step - loss: 0.0799 - accuracy: 0.9678\n",
            "Epoch 85/200\n",
            "804/804 [==============================] - 4s 5ms/step - loss: 0.0796 - accuracy: 0.9675\n",
            "Epoch 86/200\n",
            "804/804 [==============================] - 4s 5ms/step - loss: 0.0795 - accuracy: 0.9673\n",
            "Epoch 87/200\n",
            "804/804 [==============================] - 4s 5ms/step - loss: 0.0791 - accuracy: 0.9685\n",
            "Epoch 88/200\n",
            "804/804 [==============================] - 4s 5ms/step - loss: 0.0794 - accuracy: 0.9671\n",
            "Epoch 89/200\n",
            "804/804 [==============================] - 4s 5ms/step - loss: 0.0786 - accuracy: 0.9677\n",
            "Epoch 90/200\n",
            "804/804 [==============================] - 4s 5ms/step - loss: 0.0800 - accuracy: 0.9675\n",
            "Epoch 91/200\n",
            "804/804 [==============================] - 4s 5ms/step - loss: 0.0797 - accuracy: 0.9673\n",
            "Epoch 92/200\n",
            "804/804 [==============================] - 4s 5ms/step - loss: 0.0789 - accuracy: 0.9677\n",
            "Epoch 93/200\n",
            "804/804 [==============================] - 4s 5ms/step - loss: 0.0787 - accuracy: 0.9679\n",
            "Epoch 94/200\n",
            "804/804 [==============================] - 4s 5ms/step - loss: 0.0792 - accuracy: 0.9677\n",
            "Epoch 95/200\n",
            "804/804 [==============================] - 4s 5ms/step - loss: 0.0788 - accuracy: 0.9680\n",
            "Epoch 96/200\n",
            "804/804 [==============================] - 4s 5ms/step - loss: 0.0791 - accuracy: 0.9683\n",
            "Epoch 97/200\n",
            "804/804 [==============================] - 4s 5ms/step - loss: 0.0794 - accuracy: 0.9684\n",
            "Epoch 98/200\n",
            "804/804 [==============================] - 4s 5ms/step - loss: 0.0787 - accuracy: 0.9682\n",
            "Epoch 99/200\n",
            "804/804 [==============================] - 4s 5ms/step - loss: 0.0792 - accuracy: 0.9682\n",
            "Epoch 100/200\n",
            "804/804 [==============================] - 4s 5ms/step - loss: 0.0785 - accuracy: 0.9684\n",
            "Epoch 101/200\n",
            "804/804 [==============================] - 4s 5ms/step - loss: 0.0790 - accuracy: 0.9684\n",
            "Epoch 102/200\n",
            "804/804 [==============================] - 4s 5ms/step - loss: 0.0792 - accuracy: 0.9682\n",
            "Epoch 103/200\n",
            "804/804 [==============================] - 4s 5ms/step - loss: 0.0784 - accuracy: 0.9688\n",
            "Epoch 104/200\n",
            "804/804 [==============================] - 4s 5ms/step - loss: 0.0780 - accuracy: 0.9680\n",
            "Epoch 105/200\n",
            "804/804 [==============================] - 4s 5ms/step - loss: 0.0781 - accuracy: 0.9686\n",
            "Epoch 106/200\n",
            "804/804 [==============================] - 4s 5ms/step - loss: 0.0784 - accuracy: 0.9682\n",
            "Epoch 107/200\n",
            "804/804 [==============================] - 4s 5ms/step - loss: 0.0781 - accuracy: 0.9677\n",
            "Epoch 108/200\n",
            "804/804 [==============================] - 4s 5ms/step - loss: 0.0785 - accuracy: 0.9680\n",
            "Epoch 109/200\n",
            "804/804 [==============================] - 4s 5ms/step - loss: 0.0782 - accuracy: 0.9683\n",
            "Epoch 110/200\n",
            "804/804 [==============================] - 4s 5ms/step - loss: 0.0784 - accuracy: 0.9692\n",
            "Epoch 111/200\n",
            "804/804 [==============================] - 4s 5ms/step - loss: 0.0779 - accuracy: 0.9691\n",
            "Epoch 112/200\n",
            "804/804 [==============================] - 4s 5ms/step - loss: 0.0779 - accuracy: 0.9686\n",
            "Epoch 113/200\n",
            "804/804 [==============================] - 4s 5ms/step - loss: 0.0780 - accuracy: 0.9689\n",
            "Epoch 114/200\n",
            "804/804 [==============================] - 4s 5ms/step - loss: 0.0773 - accuracy: 0.9691\n",
            "Epoch 115/200\n",
            "804/804 [==============================] - 4s 5ms/step - loss: 0.0789 - accuracy: 0.9680\n",
            "Epoch 116/200\n",
            "804/804 [==============================] - 4s 5ms/step - loss: 0.0779 - accuracy: 0.9689\n",
            "Epoch 117/200\n",
            "804/804 [==============================] - 4s 5ms/step - loss: 0.0789 - accuracy: 0.9683\n",
            "Epoch 118/200\n",
            "804/804 [==============================] - 4s 5ms/step - loss: 0.0780 - accuracy: 0.9684\n",
            "Epoch 119/200\n",
            "804/804 [==============================] - 4s 5ms/step - loss: 0.0775 - accuracy: 0.9693\n",
            "Epoch 120/200\n",
            "804/804 [==============================] - 4s 5ms/step - loss: 0.0773 - accuracy: 0.9684\n",
            "Epoch 121/200\n",
            "804/804 [==============================] - 4s 5ms/step - loss: 0.0769 - accuracy: 0.9692\n",
            "Epoch 122/200\n",
            "804/804 [==============================] - 4s 5ms/step - loss: 0.0771 - accuracy: 0.9686\n",
            "Epoch 123/200\n",
            "804/804 [==============================] - 4s 5ms/step - loss: 0.0770 - accuracy: 0.9689\n",
            "Epoch 124/200\n",
            "804/804 [==============================] - 4s 5ms/step - loss: 0.0778 - accuracy: 0.9689\n",
            "Epoch 125/200\n",
            "804/804 [==============================] - 4s 5ms/step - loss: 0.0773 - accuracy: 0.9689\n",
            "Epoch 126/200\n",
            "804/804 [==============================] - 4s 5ms/step - loss: 0.0779 - accuracy: 0.9686\n",
            "Epoch 127/200\n",
            "804/804 [==============================] - 4s 5ms/step - loss: 0.0787 - accuracy: 0.9690\n",
            "Epoch 128/200\n",
            "804/804 [==============================] - 4s 5ms/step - loss: 0.0782 - accuracy: 0.9689\n",
            "Epoch 129/200\n",
            "804/804 [==============================] - 4s 5ms/step - loss: 0.0787 - accuracy: 0.9687\n",
            "Epoch 130/200\n",
            "804/804 [==============================] - 4s 5ms/step - loss: 0.0775 - accuracy: 0.9688\n",
            "Epoch 131/200\n",
            "804/804 [==============================] - 4s 5ms/step - loss: 0.0775 - accuracy: 0.9687\n",
            "Epoch 132/200\n",
            "804/804 [==============================] - 4s 5ms/step - loss: 0.0776 - accuracy: 0.9684\n",
            "Epoch 133/200\n",
            "804/804 [==============================] - 4s 5ms/step - loss: 0.0782 - accuracy: 0.9684\n",
            "Epoch 134/200\n",
            "804/804 [==============================] - 4s 5ms/step - loss: 0.0774 - accuracy: 0.9685\n",
            "Epoch 135/200\n",
            "804/804 [==============================] - 4s 5ms/step - loss: 0.0777 - accuracy: 0.9679\n",
            "Epoch 136/200\n",
            "804/804 [==============================] - 4s 5ms/step - loss: 0.0776 - accuracy: 0.9681\n",
            "Epoch 137/200\n",
            "804/804 [==============================] - 4s 5ms/step - loss: 0.0772 - accuracy: 0.9689\n",
            "Epoch 138/200\n",
            "804/804 [==============================] - 4s 5ms/step - loss: 0.0773 - accuracy: 0.9691\n",
            "Epoch 139/200\n",
            "804/804 [==============================] - 4s 5ms/step - loss: 0.0773 - accuracy: 0.9688\n",
            "Epoch 140/200\n",
            "804/804 [==============================] - 4s 5ms/step - loss: 0.0772 - accuracy: 0.9692\n",
            "Epoch 141/200\n",
            "804/804 [==============================] - 4s 5ms/step - loss: 0.0771 - accuracy: 0.9692\n",
            "Epoch 142/200\n",
            "804/804 [==============================] - 4s 5ms/step - loss: 0.0777 - accuracy: 0.9685\n",
            "Epoch 143/200\n",
            "804/804 [==============================] - 4s 5ms/step - loss: 0.0768 - accuracy: 0.9691\n",
            "Epoch 144/200\n",
            "804/804 [==============================] - 4s 5ms/step - loss: 0.0772 - accuracy: 0.9689\n",
            "Epoch 145/200\n",
            "804/804 [==============================] - 4s 5ms/step - loss: 0.0774 - accuracy: 0.9691\n",
            "Epoch 146/200\n",
            "804/804 [==============================] - 4s 5ms/step - loss: 0.0768 - accuracy: 0.9691\n",
            "Epoch 147/200\n",
            "804/804 [==============================] - 4s 5ms/step - loss: 0.0785 - accuracy: 0.9683\n",
            "Epoch 148/200\n",
            "804/804 [==============================] - 4s 5ms/step - loss: 0.0772 - accuracy: 0.9685\n",
            "Epoch 149/200\n",
            "804/804 [==============================] - 4s 5ms/step - loss: 0.0771 - accuracy: 0.9691\n",
            "Epoch 150/200\n",
            "804/804 [==============================] - 4s 5ms/step - loss: 0.0770 - accuracy: 0.9689\n",
            "Epoch 151/200\n",
            "804/804 [==============================] - 4s 5ms/step - loss: 0.0765 - accuracy: 0.9695\n",
            "Epoch 152/200\n",
            "804/804 [==============================] - 4s 5ms/step - loss: 0.0767 - accuracy: 0.9690\n",
            "Epoch 153/200\n",
            "804/804 [==============================] - 4s 5ms/step - loss: 0.0773 - accuracy: 0.9689\n",
            "Epoch 154/200\n",
            "804/804 [==============================] - 4s 5ms/step - loss: 0.0761 - accuracy: 0.9694\n",
            "Epoch 155/200\n",
            "804/804 [==============================] - 4s 5ms/step - loss: 0.0774 - accuracy: 0.9691\n",
            "Epoch 156/200\n",
            "804/804 [==============================] - 4s 5ms/step - loss: 0.0773 - accuracy: 0.9683\n",
            "Epoch 157/200\n",
            "804/804 [==============================] - 4s 5ms/step - loss: 0.0799 - accuracy: 0.9687\n",
            "Epoch 158/200\n",
            "804/804 [==============================] - 4s 5ms/step - loss: 0.0806 - accuracy: 0.9672\n",
            "Epoch 159/200\n",
            "804/804 [==============================] - 4s 5ms/step - loss: 0.0785 - accuracy: 0.9680\n",
            "Epoch 160/200\n",
            "804/804 [==============================] - 4s 5ms/step - loss: 0.0778 - accuracy: 0.9689\n",
            "Epoch 161/200\n",
            "804/804 [==============================] - 4s 5ms/step - loss: 0.0768 - accuracy: 0.9693\n",
            "Epoch 162/200\n",
            "804/804 [==============================] - 4s 5ms/step - loss: 0.0771 - accuracy: 0.9689\n",
            "Epoch 163/200\n",
            "804/804 [==============================] - 4s 5ms/step - loss: 0.0773 - accuracy: 0.9690\n",
            "Epoch 164/200\n",
            "804/804 [==============================] - 4s 5ms/step - loss: 0.0771 - accuracy: 0.9693\n",
            "Epoch 165/200\n",
            "804/804 [==============================] - 4s 5ms/step - loss: 0.0773 - accuracy: 0.9692\n",
            "Epoch 166/200\n",
            "804/804 [==============================] - 4s 5ms/step - loss: 0.0768 - accuracy: 0.9694\n",
            "Epoch 167/200\n",
            "804/804 [==============================] - 4s 5ms/step - loss: 0.0780 - accuracy: 0.9687\n",
            "Epoch 168/200\n",
            "804/804 [==============================] - 4s 5ms/step - loss: 0.0784 - accuracy: 0.9691\n",
            "Epoch 169/200\n",
            "804/804 [==============================] - 4s 5ms/step - loss: 0.0781 - accuracy: 0.9690\n",
            "Epoch 170/200\n",
            "804/804 [==============================] - 4s 5ms/step - loss: 0.0762 - accuracy: 0.9692\n",
            "Epoch 171/200\n",
            "804/804 [==============================] - 4s 5ms/step - loss: 0.0764 - accuracy: 0.9690\n",
            "Epoch 172/200\n",
            "804/804 [==============================] - 4s 5ms/step - loss: 0.0762 - accuracy: 0.9695\n",
            "Epoch 173/200\n",
            "804/804 [==============================] - 4s 5ms/step - loss: 0.0769 - accuracy: 0.9684\n",
            "Epoch 174/200\n",
            "804/804 [==============================] - 4s 5ms/step - loss: 0.0761 - accuracy: 0.9692\n",
            "Epoch 175/200\n",
            "804/804 [==============================] - 4s 5ms/step - loss: 0.0764 - accuracy: 0.9687\n",
            "Epoch 176/200\n",
            "804/804 [==============================] - 4s 5ms/step - loss: 0.0760 - accuracy: 0.9691\n",
            "Epoch 177/200\n",
            "804/804 [==============================] - 4s 5ms/step - loss: 0.0765 - accuracy: 0.9689\n",
            "Epoch 178/200\n",
            "804/804 [==============================] - 4s 5ms/step - loss: 0.0771 - accuracy: 0.9688\n",
            "Epoch 179/200\n",
            "804/804 [==============================] - 4s 5ms/step - loss: 0.0771 - accuracy: 0.9687\n",
            "Epoch 180/200\n",
            "804/804 [==============================] - 4s 5ms/step - loss: 0.0760 - accuracy: 0.9699\n",
            "Epoch 181/200\n",
            "804/804 [==============================] - 4s 5ms/step - loss: 0.0757 - accuracy: 0.9695\n",
            "Epoch 182/200\n",
            "804/804 [==============================] - 4s 5ms/step - loss: 0.0762 - accuracy: 0.9699\n",
            "Epoch 183/200\n",
            "804/804 [==============================] - 4s 5ms/step - loss: 0.0760 - accuracy: 0.9696\n",
            "Epoch 184/200\n",
            "804/804 [==============================] - 4s 5ms/step - loss: 0.0756 - accuracy: 0.9700\n",
            "Epoch 185/200\n",
            "804/804 [==============================] - 4s 5ms/step - loss: 0.0758 - accuracy: 0.9694\n",
            "Epoch 186/200\n",
            "804/804 [==============================] - 4s 5ms/step - loss: 0.0756 - accuracy: 0.9689\n",
            "Epoch 187/200\n",
            "804/804 [==============================] - 4s 5ms/step - loss: 0.0759 - accuracy: 0.9696\n",
            "Epoch 188/200\n",
            "804/804 [==============================] - 4s 5ms/step - loss: 0.0780 - accuracy: 0.9689\n",
            "Epoch 189/200\n",
            "804/804 [==============================] - 4s 5ms/step - loss: 0.0753 - accuracy: 0.9693\n",
            "Epoch 190/200\n",
            "804/804 [==============================] - 4s 5ms/step - loss: 0.0755 - accuracy: 0.9693\n",
            "Epoch 191/200\n",
            "804/804 [==============================] - 4s 5ms/step - loss: 0.0754 - accuracy: 0.9692\n",
            "Epoch 192/200\n",
            "804/804 [==============================] - 4s 5ms/step - loss: 0.0752 - accuracy: 0.9700\n",
            "Epoch 193/200\n",
            "804/804 [==============================] - 4s 5ms/step - loss: 0.0754 - accuracy: 0.9691\n",
            "Epoch 194/200\n",
            "804/804 [==============================] - 4s 5ms/step - loss: 0.0761 - accuracy: 0.9693\n",
            "Epoch 195/200\n",
            "804/804 [==============================] - 4s 5ms/step - loss: 0.0759 - accuracy: 0.9688\n",
            "Epoch 196/200\n",
            "804/804 [==============================] - 4s 5ms/step - loss: 0.0751 - accuracy: 0.9698\n",
            "Epoch 197/200\n",
            "804/804 [==============================] - 4s 5ms/step - loss: 0.0761 - accuracy: 0.9699\n",
            "Epoch 198/200\n",
            "804/804 [==============================] - 4s 5ms/step - loss: 0.0757 - accuracy: 0.9692\n",
            "Epoch 199/200\n",
            "804/804 [==============================] - 4s 5ms/step - loss: 0.0752 - accuracy: 0.9696\n",
            "Epoch 200/200\n",
            "804/804 [==============================] - 4s 5ms/step - loss: 0.0874 - accuracy: 0.9660\n"
          ]
        }
      ],
      "source": [
        "# Train the model\n",
        "fit_model = nn.fit(X_train_scaled,Y_train,epochs=200)"
      ]
    },
    {
      "cell_type": "code",
      "execution_count": 17,
      "metadata": {
        "id": "8ZHoZ_bX_n0t",
        "outputId": "15822195-85e0-496a-ba5f-dd6a3796fc2a",
        "colab": {
          "base_uri": "https://localhost:8080/"
        }
      },
      "outputs": [
        {
          "output_type": "stream",
          "name": "stdout",
          "text": [
            "268/268 - 1s - loss: 0.7577 - accuracy: 0.6599 - 742ms/epoch - 3ms/step\n",
            "Loss: 0.7577480673789978, Accuracy: 0.6599416732788086\n"
          ]
        }
      ],
      "source": [
        "# Evaluate the model using the test data\n",
        "model_loss, model_accuracy = nn.evaluate(X_test_scaled,Y_test,verbose=2)\n",
        "print(f\"Loss: {model_loss}, Accuracy: {model_accuracy}\")"
      ]
    },
    {
      "cell_type": "code",
      "execution_count": 18,
      "metadata": {
        "id": "mC8nqhmm_n0t"
      },
      "outputs": [],
      "source": [
        "# Export our model to HDF5 file\n",
        "nn.save('../AlphabetSoupCharity_Optimization2.h5')"
      ]
    }
  ],
  "metadata": {
    "kernelspec": {
      "display_name": "Python 3 (ipykernel)",
      "language": "python",
      "name": "python3"
    },
    "language_info": {
      "codemirror_mode": {
        "name": "ipython",
        "version": 3
      },
      "file_extension": ".py",
      "mimetype": "text/x-python",
      "name": "python",
      "nbconvert_exporter": "python",
      "pygments_lexer": "ipython3",
      "version": "3.9.13"
    },
    "colab": {
      "provenance": [],
      "machine_shape": "hm"
    },
    "gpuClass": "standard"
  },
  "nbformat": 4,
  "nbformat_minor": 0
}